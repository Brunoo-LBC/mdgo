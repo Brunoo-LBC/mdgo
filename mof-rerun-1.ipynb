{
 "cells": [
  {
   "cell_type": "markdown",
   "metadata": {},
   "source": [
    "## 0.Initiation"
   ]
  },
  {
   "cell_type": "code",
   "execution_count": 1,
   "metadata": {},
   "outputs": [],
   "source": [
    "from mdgo.core import MdRun\n",
    "import MDAnalysis\n",
    "import matplotlib.pyplot as plt\n",
    "%matplotlib inline\n",
    "%load_ext autoreload\n",
    "%autoreload 2"
   ]
  },
  {
   "cell_type": "code",
   "execution_count": 38,
   "metadata": {},
   "outputs": [
    {
     "data": {
      "application/vnd.jupyter.widget-view+json": {
       "model_id": "7f5fd714b1cb4a309596a2501a629b03",
       "version_major": 2,
       "version_minor": 0
      },
      "text/plain": [
       "HBox(children=(HTML(value=''), FloatProgress(value=0.0, max=5001.0), HTML(value='')))"
      ]
     },
     "metadata": {},
     "output_type": "display_data"
    },
    {
     "name": "stdout",
     "output_type": "stream",
     "text": [
      "\n"
     ]
    },
    {
     "data": {
      "application/vnd.jupyter.widget-view+json": {
       "model_id": "e467063209524aeba65381cf39d715b1",
       "version_major": 2,
       "version_minor": 0
      },
      "text/plain": [
       "HBox(children=(HTML(value=''), FloatProgress(value=0.0, max=5001.0), HTML(value='')))"
      ]
     },
     "metadata": {},
     "output_type": "display_data"
    },
    {
     "name": "stdout",
     "output_type": "stream",
     "text": [
      "\n"
     ]
    },
    {
     "data": {
      "application/vnd.jupyter.widget-view+json": {
       "model_id": "83a3481ae1774e6197dafc7339b185c7",
       "version_major": 2,
       "version_minor": 0
      },
      "text/plain": [
       "HBox(children=(HTML(value=''), FloatProgress(value=0.0, max=5001.0), HTML(value='')))"
      ]
     },
     "metadata": {},
     "output_type": "display_data"
    },
    {
     "name": "stdout",
     "output_type": "stream",
     "text": [
      "\n"
     ]
    },
    {
     "data": {
      "application/vnd.jupyter.widget-view+json": {
       "model_id": "fc48466dabb0453a980670e33def6c80",
       "version_major": 2,
       "version_minor": 0
      },
      "text/plain": [
       "HBox(children=(HTML(value=''), FloatProgress(value=0.0, max=5001.0), HTML(value='')))"
      ]
     },
     "metadata": {},
     "output_type": "display_data"
    },
    {
     "name": "stdout",
     "output_type": "stream",
     "text": [
      "\n"
     ]
    }
   ],
   "source": [
    "al_6_run = MdRun(\"/Users/th/Downloads/mof_project/mof_rerun/1/al_0.6/mof_al_170pc_0.6.data\",\n",
    "                 \"/Users/th/Downloads/mof_project/mof_rerun/1/al_0.6/LiXWT_npt_nvt.dcd\",\n",
    "                 \"/Users/th/Downloads/mof_project/mof_rerun/1/al_0.6/LiXWT_npt_unwrapped_nvt.dcd\",\n",
    "                 500, 10, \"mof al 6 run1\", \n",
    "                 {\"cation\": \"type 10\", \"anion\": \"same charge as index 113\", \"PC\": \"type 12\", \"center\": \"type 7\"},\n",
    "                 anion_charge = -1/4)\n",
    "al_55_run = MdRun(\"/Users/th/Downloads/mof_project/mof_rerun/1/al_55/mof_al_170pc_55.data\",\n",
    "                  \"/Users/th/Downloads/mof_project/mof_rerun/1/al_55/LiXWT_npt_nvt.dcd\",\n",
    "                  \"/Users/th/Downloads/mof_project/mof_rerun/1/al_55/LiXWT_npt_unwrapped_nvt.dcd\",\n",
    "                  500, 10, \"mof al 55 run1\", \n",
    "                 {\"cation\": \"type 10\", \"anion\": \"same charge as index 113\", \"PC\": \"type 12\", \"center\": \"type 7\"},\n",
    "                 anion_charge = -1/4)\n",
    "mn_6_run = MdRun(\"/Users/th/Downloads/mof_project/mof_rerun/1/mn_0.6/mof_mn_170pc_0.6.data\",\n",
    "                 \"/Users/th/Downloads/mof_project/mof_rerun/1/mn_0.6/LiXWT_npt_nvt.dcd\",\n",
    "                 \"/Users/th/Downloads/mof_project/mof_rerun/1/mn_0.6/LiXWT_npt_unwrapped_nvt.dcd\",\n",
    "                 500, 10, \"mof mn 6 run1\", \n",
    "                 {\"cation\": \"type 10\", \"anion\": \"same charge as index 113\", \"PC\": \"type 12\", \"center\": \"type 7\"},\n",
    "                 anion_charge = -1/4)\n",
    "mn_55_run = MdRun(\"/Users/th/Downloads/mof_project/mof_rerun/1/mn_55/mof_mn_170pc_55.data\",\n",
    "                  \"/Users/th/Downloads/mof_project/mof_rerun/1/mn_55/LiXWT_npt_nvt.dcd\",\n",
    "                  \"/Users/th/Downloads/mof_project/mof_rerun/1/mn_55/LiXWT_npt_unwrapped_nvt.dcd\",\n",
    "                  500, 10, \"mof mn 55 run1\", \n",
    "                 {\"cation\": \"type 10\", \"anion\": \"same charge as index 113\", \"PC\": \"type 12\", \"center\": \"type 7\"},\n",
    "                 anion_charge = -1/4)"
   ]
  },
  {
   "cell_type": "markdown",
   "metadata": {},
   "source": [
    "## 1.Conductivity"
   ]
  },
  {
   "cell_type": "code",
   "execution_count": 6,
   "metadata": {},
   "outputs": [
    {
     "name": "stderr",
     "output_type": "stream",
     "text": [
      "/Users/th/Documents/mdgo/mdgo/core.py:93: UserWarning: Matplotlib is currently using module://ipykernel.pylab.backend_inline, which is a non-GUI backend, so cannot show the figure.\n",
      "  fig.show()\n"
     ]
    },
    {
     "data": {
      "image/png": "[encoded data removed]",
      "text/plain": [
       "<Figure size 432x288 with 1 Axes>"
      ]
     },
     "metadata": {
      "needs_background": "light"
     },
     "output_type": "display_data"
    }
   ],
   "source": [
    "# start and end of fitting region selection (linear regime)\n",
    "start = int(100/10)\n",
    "end = int(50000/10)\n",
    "al_6_run.plot_cond_array(start, end, al_55_run, mn_6_run, mn_55_run)"
   ]
  },
  {
   "cell_type": "code",
   "execution_count": 22,
   "metadata": {},
   "outputs": [
    {
     "name": "stdout",
     "output_type": "stream",
     "text": [
      "Conductivity of mof al 6 run1: 0.2524050920263991 ± 0.000361609659315347 mS/cm\n"
     ]
    }
   ],
   "source": [
    "start = int(1000/10)\n",
    "end = int(30000/10)\n",
    "al_6_run.get_conductivity(start, end)"
   ]
  },
  {
   "cell_type": "code",
   "execution_count": 23,
   "metadata": {},
   "outputs": [
    {
     "name": "stdout",
     "output_type": "stream",
     "text": [
      "Conductivity of mof al 55 run1: 0.3614495696241424 ± 0.0015258999285252953 mS/cm\n"
     ]
    }
   ],
   "source": [
    "start = int(3000/10)\n",
    "end = int(20000/10)\n",
    "al_55_run.get_conductivity(start, end)"
   ]
  },
  {
   "cell_type": "code",
   "execution_count": 24,
   "metadata": {},
   "outputs": [
    {
     "name": "stdout",
     "output_type": "stream",
     "text": [
      "Conductivity of mof mn 6 run1: 0.3443243166653661 ± 0.0005348180304730829 mS/cm\n"
     ]
    }
   ],
   "source": [
    "start = int(15000/10)\n",
    "end = int(30000/10)\n",
    "mn_6_run.get_conductivity(start, end)"
   ]
  },
  {
   "cell_type": "code",
   "execution_count": 26,
   "metadata": {},
   "outputs": [
    {
     "name": "stdout",
     "output_type": "stream",
     "text": [
      "Conductivity of mof mn 55 run1: 0.4468502498549175 ± 0.0027260241925891114 mS/cm\n"
     ]
    }
   ],
   "source": [
    "start = int(1000/10)\n",
    "end = int(5000/10)\n",
    "mn_55_run.get_conductivity(start, end)"
   ]
  },
  {
   "cell_type": "markdown",
   "metadata": {},
   "source": [
    "## 2.Coordination"
   ]
  },
  {
   "cell_type": "code",
   "execution_count": 7,
   "metadata": {},
   "outputs": [
    {
     "data": {
      "application/vnd.jupyter.widget-view+json": {
       "model_id": "7cc2daf868a7464688cec78f6fd031b3",
       "version_major": 2,
       "version_minor": 0
      },
      "text/plain": [
       "HBox(children=(HTML(value=''), FloatProgress(value=0.0, max=47.0), HTML(value='')))"
      ]
     },
     "metadata": {},
     "output_type": "display_data"
    },
    {
     "name": "stdout",
     "output_type": "stream",
     "text": [
      "\n"
     ]
    },
    {
     "data": {
      "application/vnd.jupyter.widget-view+json": {
       "model_id": "3b4a3b2b736348e78cb5e45e14ea58cc",
       "version_major": 2,
       "version_minor": 0
      },
      "text/plain": [
       "HBox(children=(HTML(value=''), FloatProgress(value=0.0, max=47.0), HTML(value='')))"
      ]
     },
     "metadata": {},
     "output_type": "display_data"
    },
    {
     "name": "stdout",
     "output_type": "stream",
     "text": [
      "\n"
     ]
    },
    {
     "data": {
      "application/vnd.jupyter.widget-view+json": {
       "model_id": "e2303fa4d35943908c86b1e8a6c0be74",
       "version_major": 2,
       "version_minor": 0
      },
      "text/plain": [
       "HBox(children=(HTML(value=''), FloatProgress(value=0.0, max=47.0), HTML(value='')))"
      ]
     },
     "metadata": {},
     "output_type": "display_data"
    },
    {
     "name": "stdout",
     "output_type": "stream",
     "text": [
      "\n"
     ]
    },
    {
     "data": {
      "application/vnd.jupyter.widget-view+json": {
       "model_id": "4e30451a9f23441dbd0aad3d37086c9b",
       "version_major": 2,
       "version_minor": 0
      },
      "text/plain": [
       "HBox(children=(HTML(value=''), FloatProgress(value=0.0, max=47.0), HTML(value='')))"
      ]
     },
     "metadata": {},
     "output_type": "display_data"
    },
    {
     "name": "stdout",
     "output_type": "stream",
     "text": [
      "\n"
     ]
    },
    {
     "data": {
      "application/vnd.jupyter.widget-view+json": {
       "model_id": "e3031fad7fd841b497c2c59668cf6f93",
       "version_major": 2,
       "version_minor": 0
      },
      "text/plain": [
       "HBox(children=(HTML(value=''), FloatProgress(value=0.0, max=47.0), HTML(value='')))"
      ]
     },
     "metadata": {},
     "output_type": "display_data"
    },
    {
     "name": "stdout",
     "output_type": "stream",
     "text": [
      "\n"
     ]
    },
    {
     "data": {
      "application/vnd.jupyter.widget-view+json": {
       "model_id": "f8881ad8f9854289ae1fbcb78562e53c",
       "version_major": 2,
       "version_minor": 0
      },
      "text/plain": [
       "HBox(children=(HTML(value=''), FloatProgress(value=0.0, max=47.0), HTML(value='')))"
      ]
     },
     "metadata": {},
     "output_type": "display_data"
    },
    {
     "name": "stdout",
     "output_type": "stream",
     "text": [
      "\n"
     ]
    },
    {
     "data": {
      "text/plain": [
       "\"\\ncna_mn_55_o = mn_55_run.coordination_one_species('anion', 3.2, run_start, run_end)\\ncna_mn_55_pc = mn_55_run.coordination_one_species('PC', 3.2, run_start, run_end)\\n\""
      ]
     },
     "execution_count": 7,
     "metadata": {},
     "output_type": "execute_result"
    }
   ],
   "source": [
    "run_start = int(10000/10)\n",
    "run_end = int(50000/10)\n",
    "cna_al_6_o = al_6_run.coordination_one_species('anion', 3.2, run_start, run_end)\n",
    "cna_al_6_pc = al_6_run.coordination_one_species('PC', 3.2, run_start, run_end)\n",
    "cna_al_55_o = al_55_run.coordination_one_species('anion', 3.4, run_start, run_end)\n",
    "cna_al_55_pc = al_55_run.coordination_one_species('PC', 3.4, run_start, run_end)\n",
    "cna_mn_6_o = mn_6_run.coordination_one_species('anion', 3.2, run_start, run_end)\n",
    "cna_mn_6_pc = mn_6_run.coordination_one_species('PC', 3.2, run_start, run_end)\n",
    "\"\"\"\n",
    "cna_mn_55_o = mn_55_run.coordination_one_species('anion', 3.2, run_start, run_end)\n",
    "cna_mn_55_pc = mn_55_run.coordination_one_species('PC', 3.2, run_start, run_end)\n",
    "\"\"\""
   ]
  },
  {
   "cell_type": "code",
   "execution_count": 8,
   "metadata": {},
   "outputs": [
    {
     "data": {
      "text/html": [
       "<div>\n",
       "<style scoped>\n",
       "    .dataframe tbody tr th:only-of-type {\n",
       "        vertical-align: middle;\n",
       "    }\n",
       "\n",
       "    .dataframe tbody tr th {\n",
       "        vertical-align: top;\n",
       "    }\n",
       "\n",
       "    .dataframe thead th {\n",
       "        text-align: right;\n",
       "    }\n",
       "</style>\n",
       "<table border=\"1\" class=\"dataframe\">\n",
       "  <thead>\n",
       "    <tr style=\"text-align: right;\">\n",
       "      <th></th>\n",
       "      <th>Num of anion within 3.2 Å</th>\n",
       "      <th>Percentage</th>\n",
       "    </tr>\n",
       "  </thead>\n",
       "  <tbody>\n",
       "    <tr>\n",
       "      <th>0</th>\n",
       "      <td>0</td>\n",
       "      <td>8.7771%</td>\n",
       "    </tr>\n",
       "    <tr>\n",
       "      <th>1</th>\n",
       "      <td>1</td>\n",
       "      <td>32.0734%</td>\n",
       "    </tr>\n",
       "    <tr>\n",
       "      <th>2</th>\n",
       "      <td>2</td>\n",
       "      <td>55.2995%</td>\n",
       "    </tr>\n",
       "    <tr>\n",
       "      <th>3</th>\n",
       "      <td>3</td>\n",
       "      <td>3.3818%</td>\n",
       "    </tr>\n",
       "    <tr>\n",
       "      <th>4</th>\n",
       "      <td>4</td>\n",
       "      <td>0.4682%</td>\n",
       "    </tr>\n",
       "  </tbody>\n",
       "</table>\n",
       "</div>"
      ],
      "text/plain": [
       "  Num of anion within 3.2 Å Percentage\n",
       "0                         0    8.7771%\n",
       "1                         1   32.0734%\n",
       "2                         2   55.2995%\n",
       "3                         3    3.3818%\n",
       "4                         4    0.4682%"
      ]
     },
     "execution_count": 8,
     "metadata": {},
     "output_type": "execute_result"
    }
   ],
   "source": [
    "cna_al_6_o"
   ]
  },
  {
   "cell_type": "code",
   "execution_count": 9,
   "metadata": {},
   "outputs": [
    {
     "data": {
      "text/html": [
       "<div>\n",
       "<style scoped>\n",
       "    .dataframe tbody tr th:only-of-type {\n",
       "        vertical-align: middle;\n",
       "    }\n",
       "\n",
       "    .dataframe tbody tr th {\n",
       "        vertical-align: top;\n",
       "    }\n",
       "\n",
       "    .dataframe thead th {\n",
       "        text-align: right;\n",
       "    }\n",
       "</style>\n",
       "<table border=\"1\" class=\"dataframe\">\n",
       "  <thead>\n",
       "    <tr style=\"text-align: right;\">\n",
       "      <th></th>\n",
       "      <th>Num of PC within 3.2 Å</th>\n",
       "      <th>Percentage</th>\n",
       "    </tr>\n",
       "  </thead>\n",
       "  <tbody>\n",
       "    <tr>\n",
       "      <th>0</th>\n",
       "      <td>0</td>\n",
       "      <td>0.0615%</td>\n",
       "    </tr>\n",
       "    <tr>\n",
       "      <th>1</th>\n",
       "      <td>1</td>\n",
       "      <td>3.6479%</td>\n",
       "    </tr>\n",
       "    <tr>\n",
       "      <th>2</th>\n",
       "      <td>2</td>\n",
       "      <td>27.4589%</td>\n",
       "    </tr>\n",
       "    <tr>\n",
       "      <th>3</th>\n",
       "      <td>3</td>\n",
       "      <td>53.0953%</td>\n",
       "    </tr>\n",
       "    <tr>\n",
       "      <th>4</th>\n",
       "      <td>4</td>\n",
       "      <td>13.4984%</td>\n",
       "    </tr>\n",
       "    <tr>\n",
       "      <th>5</th>\n",
       "      <td>5</td>\n",
       "      <td>2.0797%</td>\n",
       "    </tr>\n",
       "    <tr>\n",
       "      <th>6</th>\n",
       "      <td>6</td>\n",
       "      <td>0.1578%</td>\n",
       "    </tr>\n",
       "    <tr>\n",
       "      <th>7</th>\n",
       "      <td>7</td>\n",
       "      <td>0.0005%</td>\n",
       "    </tr>\n",
       "  </tbody>\n",
       "</table>\n",
       "</div>"
      ],
      "text/plain": [
       "  Num of PC within 3.2 Å Percentage\n",
       "0                      0    0.0615%\n",
       "1                      1    3.6479%\n",
       "2                      2   27.4589%\n",
       "3                      3   53.0953%\n",
       "4                      4   13.4984%\n",
       "5                      5    2.0797%\n",
       "6                      6    0.1578%\n",
       "7                      7    0.0005%"
      ]
     },
     "execution_count": 9,
     "metadata": {},
     "output_type": "execute_result"
    }
   ],
   "source": [
    "cna_al_6_pc"
   ]
  },
  {
   "cell_type": "code",
   "execution_count": 10,
   "metadata": {},
   "outputs": [
    {
     "data": {
      "text/html": [
       "<div>\n",
       "<style scoped>\n",
       "    .dataframe tbody tr th:only-of-type {\n",
       "        vertical-align: middle;\n",
       "    }\n",
       "\n",
       "    .dataframe tbody tr th {\n",
       "        vertical-align: top;\n",
       "    }\n",
       "\n",
       "    .dataframe thead th {\n",
       "        text-align: right;\n",
       "    }\n",
       "</style>\n",
       "<table border=\"1\" class=\"dataframe\">\n",
       "  <thead>\n",
       "    <tr style=\"text-align: right;\">\n",
       "      <th></th>\n",
       "      <th>Num of anion within 3.4 Å</th>\n",
       "      <th>Percentage</th>\n",
       "    </tr>\n",
       "  </thead>\n",
       "  <tbody>\n",
       "    <tr>\n",
       "      <th>0</th>\n",
       "      <td>0</td>\n",
       "      <td>16.7182%</td>\n",
       "    </tr>\n",
       "    <tr>\n",
       "      <th>1</th>\n",
       "      <td>1</td>\n",
       "      <td>28.6615%</td>\n",
       "    </tr>\n",
       "    <tr>\n",
       "      <th>2</th>\n",
       "      <td>2</td>\n",
       "      <td>52.9974%</td>\n",
       "    </tr>\n",
       "    <tr>\n",
       "      <th>3</th>\n",
       "      <td>3</td>\n",
       "      <td>1.4120%</td>\n",
       "    </tr>\n",
       "    <tr>\n",
       "      <th>4</th>\n",
       "      <td>4</td>\n",
       "      <td>0.2109%</td>\n",
       "    </tr>\n",
       "  </tbody>\n",
       "</table>\n",
       "</div>"
      ],
      "text/plain": [
       "  Num of anion within 3.4 Å Percentage\n",
       "0                         0   16.7182%\n",
       "1                         1   28.6615%\n",
       "2                         2   52.9974%\n",
       "3                         3    1.4120%\n",
       "4                         4    0.2109%"
      ]
     },
     "execution_count": 10,
     "metadata": {},
     "output_type": "execute_result"
    }
   ],
   "source": [
    "cna_al_55_o"
   ]
  },
  {
   "cell_type": "code",
   "execution_count": 11,
   "metadata": {},
   "outputs": [
    {
     "data": {
      "text/html": [
       "<div>\n",
       "<style scoped>\n",
       "    .dataframe tbody tr th:only-of-type {\n",
       "        vertical-align: middle;\n",
       "    }\n",
       "\n",
       "    .dataframe tbody tr th {\n",
       "        vertical-align: top;\n",
       "    }\n",
       "\n",
       "    .dataframe thead th {\n",
       "        text-align: right;\n",
       "    }\n",
       "</style>\n",
       "<table border=\"1\" class=\"dataframe\">\n",
       "  <thead>\n",
       "    <tr style=\"text-align: right;\">\n",
       "      <th></th>\n",
       "      <th>Num of PC within 3.4 Å</th>\n",
       "      <th>Percentage</th>\n",
       "    </tr>\n",
       "  </thead>\n",
       "  <tbody>\n",
       "    <tr>\n",
       "      <th>0</th>\n",
       "      <td>0</td>\n",
       "      <td>0.0245%</td>\n",
       "    </tr>\n",
       "    <tr>\n",
       "      <th>1</th>\n",
       "      <td>1</td>\n",
       "      <td>2.1422%</td>\n",
       "    </tr>\n",
       "    <tr>\n",
       "      <th>2</th>\n",
       "      <td>2</td>\n",
       "      <td>23.6375%</td>\n",
       "    </tr>\n",
       "    <tr>\n",
       "      <th>3</th>\n",
       "      <td>3</td>\n",
       "      <td>54.2573%</td>\n",
       "    </tr>\n",
       "    <tr>\n",
       "      <th>4</th>\n",
       "      <td>4</td>\n",
       "      <td>17.3250%</td>\n",
       "    </tr>\n",
       "    <tr>\n",
       "      <th>5</th>\n",
       "      <td>5</td>\n",
       "      <td>2.4401%</td>\n",
       "    </tr>\n",
       "    <tr>\n",
       "      <th>6</th>\n",
       "      <td>6</td>\n",
       "      <td>0.1724%</td>\n",
       "    </tr>\n",
       "    <tr>\n",
       "      <th>7</th>\n",
       "      <td>7</td>\n",
       "      <td>0.0010%</td>\n",
       "    </tr>\n",
       "  </tbody>\n",
       "</table>\n",
       "</div>"
      ],
      "text/plain": [
       "  Num of PC within 3.4 Å Percentage\n",
       "0                      0    0.0245%\n",
       "1                      1    2.1422%\n",
       "2                      2   23.6375%\n",
       "3                      3   54.2573%\n",
       "4                      4   17.3250%\n",
       "5                      5    2.4401%\n",
       "6                      6    0.1724%\n",
       "7                      7    0.0010%"
      ]
     },
     "execution_count": 11,
     "metadata": {},
     "output_type": "execute_result"
    }
   ],
   "source": [
    "cna_al_55_pc"
   ]
  },
  {
   "cell_type": "code",
   "execution_count": 12,
   "metadata": {},
   "outputs": [
    {
     "data": {
      "text/html": [
       "<div>\n",
       "<style scoped>\n",
       "    .dataframe tbody tr th:only-of-type {\n",
       "        vertical-align: middle;\n",
       "    }\n",
       "\n",
       "    .dataframe tbody tr th {\n",
       "        vertical-align: top;\n",
       "    }\n",
       "\n",
       "    .dataframe thead th {\n",
       "        text-align: right;\n",
       "    }\n",
       "</style>\n",
       "<table border=\"1\" class=\"dataframe\">\n",
       "  <thead>\n",
       "    <tr style=\"text-align: right;\">\n",
       "      <th></th>\n",
       "      <th>Num of anion within 3.2 Å</th>\n",
       "      <th>Percentage</th>\n",
       "    </tr>\n",
       "  </thead>\n",
       "  <tbody>\n",
       "    <tr>\n",
       "      <th>0</th>\n",
       "      <td>0</td>\n",
       "      <td>13.3083%</td>\n",
       "    </tr>\n",
       "    <tr>\n",
       "      <th>1</th>\n",
       "      <td>1</td>\n",
       "      <td>27.5437%</td>\n",
       "    </tr>\n",
       "    <tr>\n",
       "      <th>2</th>\n",
       "      <td>2</td>\n",
       "      <td>43.6313%</td>\n",
       "    </tr>\n",
       "    <tr>\n",
       "      <th>3</th>\n",
       "      <td>3</td>\n",
       "      <td>12.3391%</td>\n",
       "    </tr>\n",
       "    <tr>\n",
       "      <th>4</th>\n",
       "      <td>4</td>\n",
       "      <td>3.1672%</td>\n",
       "    </tr>\n",
       "    <tr>\n",
       "      <th>5</th>\n",
       "      <td>5</td>\n",
       "      <td>0.0104%</td>\n",
       "    </tr>\n",
       "  </tbody>\n",
       "</table>\n",
       "</div>"
      ],
      "text/plain": [
       "  Num of anion within 3.2 Å Percentage\n",
       "0                         0   13.3083%\n",
       "1                         1   27.5437%\n",
       "2                         2   43.6313%\n",
       "3                         3   12.3391%\n",
       "4                         4    3.1672%\n",
       "5                         5    0.0104%"
      ]
     },
     "execution_count": 12,
     "metadata": {},
     "output_type": "execute_result"
    }
   ],
   "source": [
    "cna_mn_6_o"
   ]
  },
  {
   "cell_type": "code",
   "execution_count": 13,
   "metadata": {},
   "outputs": [
    {
     "data": {
      "text/html": [
       "<div>\n",
       "<style scoped>\n",
       "    .dataframe tbody tr th:only-of-type {\n",
       "        vertical-align: middle;\n",
       "    }\n",
       "\n",
       "    .dataframe tbody tr th {\n",
       "        vertical-align: top;\n",
       "    }\n",
       "\n",
       "    .dataframe thead th {\n",
       "        text-align: right;\n",
       "    }\n",
       "</style>\n",
       "<table border=\"1\" class=\"dataframe\">\n",
       "  <thead>\n",
       "    <tr style=\"text-align: right;\">\n",
       "      <th></th>\n",
       "      <th>Num of PC within 3.2 Å</th>\n",
       "      <th>Percentage</th>\n",
       "    </tr>\n",
       "  </thead>\n",
       "  <tbody>\n",
       "    <tr>\n",
       "      <th>0</th>\n",
       "      <td>0</td>\n",
       "      <td>0.4932%</td>\n",
       "    </tr>\n",
       "    <tr>\n",
       "      <th>1</th>\n",
       "      <td>1</td>\n",
       "      <td>8.7432%</td>\n",
       "    </tr>\n",
       "    <tr>\n",
       "      <th>2</th>\n",
       "      <td>2</td>\n",
       "      <td>27.6292%</td>\n",
       "    </tr>\n",
       "    <tr>\n",
       "      <th>3</th>\n",
       "      <td>3</td>\n",
       "      <td>44.9479%</td>\n",
       "    </tr>\n",
       "    <tr>\n",
       "      <th>4</th>\n",
       "      <td>4</td>\n",
       "      <td>14.9125%</td>\n",
       "    </tr>\n",
       "    <tr>\n",
       "      <th>5</th>\n",
       "      <td>5</td>\n",
       "      <td>2.9286%</td>\n",
       "    </tr>\n",
       "    <tr>\n",
       "      <th>6</th>\n",
       "      <td>6</td>\n",
       "      <td>0.3427%</td>\n",
       "    </tr>\n",
       "    <tr>\n",
       "      <th>7</th>\n",
       "      <td>7</td>\n",
       "      <td>0.0026%</td>\n",
       "    </tr>\n",
       "  </tbody>\n",
       "</table>\n",
       "</div>"
      ],
      "text/plain": [
       "  Num of PC within 3.2 Å Percentage\n",
       "0                      0    0.4932%\n",
       "1                      1    8.7432%\n",
       "2                      2   27.6292%\n",
       "3                      3   44.9479%\n",
       "4                      4   14.9125%\n",
       "5                      5    2.9286%\n",
       "6                      6    0.3427%\n",
       "7                      7    0.0026%"
      ]
     },
     "execution_count": 13,
     "metadata": {},
     "output_type": "execute_result"
    }
   ],
   "source": [
    "cna_mn_6_pc"
   ]
  },
  {
   "cell_type": "code",
   "execution_count": 27,
   "metadata": {},
   "outputs": [],
   "source": [
    "#cna_mn_55_o"
   ]
  },
  {
   "cell_type": "code",
   "execution_count": 28,
   "metadata": {},
   "outputs": [],
   "source": [
    "#cna_mn_55_pc"
   ]
  },
  {
   "cell_type": "markdown",
   "metadata": {},
   "source": [
    "## 3.MSD and ionic conductivity"
   ]
  },
  {
   "cell_type": "code",
   "execution_count": 27,
   "metadata": {},
   "outputs": [],
   "source": [
    "run_start = int(10000/10)\n",
    "run_end = int(50000/10)\n",
    "al_6_msd_all = al_6_run.get_msd_all(run_start, run_end)\n",
    "al_55_msd_all = al_55_run.get_msd_all(run_start, run_end)\n",
    "mn_6_msd_all = mn_6_run.get_msd_all(run_start, run_end)\n",
    "mn_55_msd_all = mn_55_run.get_msd_all(run_start, run_end)"
   ]
  },
  {
   "cell_type": "code",
   "execution_count": 28,
   "metadata": {},
   "outputs": [
    {
     "data": {
      "text/plain": [
       "[<matplotlib.lines.Line2D at 0x15f1a14d0>]"
      ]
     },
     "execution_count": 28,
     "metadata": {},
     "output_type": "execute_result"
    },
    {
     "data": {
      "image/png": "[encoded data removed]",
      "text/plain": [
       "<Figure size 432x288 with 1 Axes>"
      ]
     },
     "metadata": {
      "needs_background": "light"
     },
     "output_type": "display_data"
    }
   ],
   "source": [
    "plt.plot(al_6_msd_all)"
   ]
  },
  {
   "cell_type": "code",
   "execution_count": 29,
   "metadata": {},
   "outputs": [
    {
     "data": {
      "text/plain": [
       "[<matplotlib.lines.Line2D at 0x15fd65750>]"
      ]
     },
     "execution_count": 29,
     "metadata": {},
     "output_type": "execute_result"
    },
    {
     "data": {
      "image/png": "[encoded data removed]",
      "text/plain": [
       "<Figure size 432x288 with 1 Axes>"
      ]
     },
     "metadata": {
      "needs_background": "light"
     },
     "output_type": "display_data"
    }
   ],
   "source": [
    "plt.plot(al_55_msd_all)"
   ]
  },
  {
   "cell_type": "code",
   "execution_count": 30,
   "metadata": {},
   "outputs": [
    {
     "data": {
      "text/plain": [
       "[<matplotlib.lines.Line2D at 0x15fdba610>]"
      ]
     },
     "execution_count": 30,
     "metadata": {},
     "output_type": "execute_result"
    },
    {
     "data": {
      "image/png": "[encoded data removed]",
      "text/plain": [
       "<Figure size 432x288 with 1 Axes>"
      ]
     },
     "metadata": {
      "needs_background": "light"
     },
     "output_type": "display_data"
    }
   ],
   "source": [
    "plt.plot(mn_6_msd_all)"
   ]
  },
  {
   "cell_type": "code",
   "execution_count": 31,
   "metadata": {},
   "outputs": [
    {
     "data": {
      "text/plain": [
       "[<matplotlib.lines.Line2D at 0x15ee759d0>]"
      ]
     },
     "execution_count": 31,
     "metadata": {},
     "output_type": "execute_result"
    },
    {
     "data": {
      "image/png": "[encoded data removed]",
      "text/plain": [
       "<Figure size 432x288 with 1 Axes>"
      ]
     },
     "metadata": {
      "needs_background": "light"
     },
     "output_type": "display_data"
    }
   ],
   "source": [
    "plt.plot(mn_55_msd_all)"
   ]
  },
  {
   "cell_type": "code",
   "execution_count": 55,
   "metadata": {},
   "outputs": [
    {
     "name": "stdout",
     "output_type": "stream",
     "text": [
      "Diffusivity of all Li: 4.575699967311922e-12 m^2/s\n",
      "Conductivity of all Li: 0.34467765371356907 mS/cm\n"
     ]
    }
   ],
   "source": [
    "al_6_run.get_d(al_6_msd_all, 500, 1500)"
   ]
  },
  {
   "cell_type": "code",
   "execution_count": 60,
   "metadata": {},
   "outputs": [
    {
     "name": "stdout",
     "output_type": "stream",
     "text": [
      "Diffusivity of all Li: 6.256333198409246e-12 m^2/s\n",
      "Conductivity of all Li: 0.47085584386567453 mS/cm\n"
     ]
    }
   ],
   "source": [
    "al_55_run.get_d(al_55_msd_all, 1000, 2000)"
   ]
  },
  {
   "cell_type": "code",
   "execution_count": 45,
   "metadata": {},
   "outputs": [
    {
     "name": "stdout",
     "output_type": "stream",
     "text": [
      "Diffusivity of all Li: 2.0668132479084698e-12 m^2/s\n",
      "Conductivity of all Li: 0.15675814849998426 mS/cm\n"
     ]
    }
   ],
   "source": [
    "mn_6_run.get_d(mn_6_msd_all, 2800, 3900)"
   ]
  },
  {
   "cell_type": "code",
   "execution_count": 46,
   "metadata": {},
   "outputs": [
    {
     "name": "stdout",
     "output_type": "stream",
     "text": [
      "Diffusivity of all Li: 5.105862119245998e-12 m^2/s\n",
      "Conductivity of all Li: 0.3884296012977309 mS/cm\n"
     ]
    }
   ],
   "source": [
    "mn_55_run.get_d(mn_55_msd_all, 2900, 3900)"
   ]
  },
  {
   "cell_type": "code",
   "execution_count": 39,
   "metadata": {},
   "outputs": [
    {
     "data": {
      "application/vnd.jupyter.widget-view+json": {
       "model_id": "7389329f00754ff38c4fbc44dac3e2f1",
       "version_major": 2,
       "version_minor": 0
      },
      "text/plain": [
       "HBox(children=(HTML(value=''), FloatProgress(value=0.0, max=48.0), HTML(value='')))"
      ]
     },
     "metadata": {},
     "output_type": "display_data"
    },
    {
     "name": "stdout",
     "output_type": "stream",
     "text": [
      "\n",
      "4.9479166666666665e-05 7.067058223016782\n",
      "4.1185890912442415e-12 m/s2\n"
     ]
    },
    {
     "data": {
      "application/vnd.jupyter.widget-view+json": {
       "model_id": "83999f9dd2064b5590b17d1e6e46b299",
       "version_major": 2,
       "version_minor": 0
      },
      "text/plain": [
       "HBox(children=(HTML(value=''), FloatProgress(value=0.0, max=48.0), HTML(value='')))"
      ]
     },
     "metadata": {},
     "output_type": "display_data"
    },
    {
     "name": "stdout",
     "output_type": "stream",
     "text": [
      "\n",
      "0.000140625 7.062528004995106\n",
      "1.1690461364376596e-11 m/s2\n"
     ]
    },
    {
     "data": {
      "application/vnd.jupyter.widget-view+json": {
       "model_id": "eb3ef210cc2f47fd9d76b6e0d4c3cdae",
       "version_major": 2,
       "version_minor": 0
      },
      "text/plain": [
       "HBox(children=(HTML(value=''), FloatProgress(value=0.0, max=48.0), HTML(value='')))"
      ]
     },
     "metadata": {},
     "output_type": "display_data"
    },
    {
     "name": "stdout",
     "output_type": "stream",
     "text": [
      "\n",
      "2.9166666666666666e-05 5.709328561261706\n",
      "1.5845488079379903e-12 m/s2\n"
     ]
    },
    {
     "data": {
      "application/vnd.jupyter.widget-view+json": {
       "model_id": "f2bd43d1095a49c1aef10ec8b65fef0b",
       "version_major": 2,
       "version_minor": 0
      },
      "text/plain": [
       "HBox(children=(HTML(value=''), FloatProgress(value=0.0, max=48.0), HTML(value='')))"
      ]
     },
     "metadata": {},
     "output_type": "display_data"
    },
    {
     "name": "stdout",
     "output_type": "stream",
     "text": [
      "\n",
      "9.427083333333332e-05 7.104968181552277\n",
      "7.931409451230483e-12 m/s2\n"
     ]
    }
   ],
   "source": [
    "freq_al_6, hop_distance_al_6 = al_6_run.get_hopping_freq_dist(1000, 5000, \"center\", 8.0, 8.0, smooth=51)\n",
    "D_al_6 = freq_al_6*1e12*hop_distance_al_6**2*1e-20/6\n",
    "print(freq_al_6, hop_distance_al_6)\n",
    "print(D_al_6, \"m/s2\")\n",
    "freq_al_55, hop_distance_al_55 = al_55_run.get_hopping_freq_dist(1000, 5000, \"center\", 8.0, 8.0, smooth=51)\n",
    "D_al_55 = freq_al_55*1e12*hop_distance_al_55**2*1e-20/6\n",
    "print(freq_al_55, hop_distance_al_55)\n",
    "print(D_al_55, \"m/s2\")\n",
    "freq_mn_6, hop_distance_mn_6 = mn_6_run.get_hopping_freq_dist(1000, 5000, \"center\", 8.0, 8.0, smooth=51)\n",
    "D_mn_6 = freq_mn_6*1e12*hop_distance_mn_6**2*1e-20/6\n",
    "print(freq_mn_6, hop_distance_mn_6)\n",
    "print(D_mn_6, \"m/s2\")\n",
    "freq_mn_55, hop_distance_mn_55 = mn_55_run.get_hopping_freq_dist(1000, 5000, \"center\", 8.0, 8.0, smooth=51)\n",
    "D_mn_55 = freq_mn_55*1e12*hop_distance_mn_55**2*1e-20/6\n",
    "print(freq_mn_55, hop_distance_mn_55)\n",
    "print(D_mn_55, \"m/s2\")"
   ]
  },
  {
   "cell_type": "code",
   "execution_count": 61,
   "metadata": {},
   "outputs": [
    {
     "data": {
      "text/plain": [
       "3.145590277777778e-12"
      ]
     },
     "execution_count": 61,
     "metadata": {},
     "output_type": "execute_result"
    }
   ],
   "source": [
    "freq_mn_6*1e12*7.3**2*1e-20/6"
   ]
  },
  {
   "cell_type": "code",
   "execution_count": 56,
   "metadata": {},
   "outputs": [
    {
     "data": {
      "application/vnd.jupyter.widget-view+json": {
       "model_id": "3670ea7c6814442b8121071c8a4f3303",
       "version_major": 2,
       "version_minor": 0
      },
      "text/plain": [
       "HBox(children=(HTML(value=''), FloatProgress(value=0.0, max=48.0), HTML(value='')))"
      ]
     },
     "metadata": {},
     "output_type": "display_data"
    },
    {
     "name": "stdout",
     "output_type": "stream",
     "text": [
      "\n",
      "4.3750000000000006e-05 6.296630239491369\n",
      "2.8909673605222914e-12 m/s2\n"
     ]
    },
    {
     "data": {
      "application/vnd.jupyter.widget-view+json": {
       "model_id": "9c044c819cb84e298d2db3e1c1fef17b",
       "version_major": 2,
       "version_minor": 0
      },
      "text/plain": [
       "HBox(children=(HTML(value=''), FloatProgress(value=0.0, max=48.0), HTML(value='')))"
      ]
     },
     "metadata": {},
     "output_type": "display_data"
    },
    {
     "name": "stdout",
     "output_type": "stream",
     "text": [
      "\n",
      "0.000128125 6.819303121033296\n",
      "9.930305715197462e-12 m/s2\n"
     ]
    },
    {
     "data": {
      "application/vnd.jupyter.widget-view+json": {
       "model_id": "4d52e7fb5ce94efda1cc1ab6aba39c7f",
       "version_major": 2,
       "version_minor": 0
      },
      "text/plain": [
       "HBox(children=(HTML(value=''), FloatProgress(value=0.0, max=48.0), HTML(value='')))"
      ]
     },
     "metadata": {},
     "output_type": "display_data"
    },
    {
     "name": "stdout",
     "output_type": "stream",
     "text": [
      "\n",
      "3.541666666666667e-05 5.295993064787629\n",
      "1.6555841083983937e-12 m/s2\n"
     ]
    },
    {
     "data": {
      "application/vnd.jupyter.widget-view+json": {
       "model_id": "db44a7d5f72e4da2a7efdf2e6d9f497e",
       "version_major": 2,
       "version_minor": 0
      },
      "text/plain": [
       "HBox(children=(HTML(value=''), FloatProgress(value=0.0, max=48.0), HTML(value='')))"
      ]
     },
     "metadata": {},
     "output_type": "display_data"
    },
    {
     "name": "stdout",
     "output_type": "stream",
     "text": [
      "\n",
      "8.333333333333333e-05 7.374785366442041\n",
      "7.553813777928842e-12 m/s2\n"
     ]
    }
   ],
   "source": [
    "freq_al_6, hop_distance_al_6 = al_6_run.get_hopping_freq_dist(1000, 3000, \"center\", 8.0, 8.0, smooth=51)\n",
    "D_al_6 = freq_al_6*1e12*hop_distance_al_6**2*1e-20/6\n",
    "print(freq_al_6, hop_distance_al_6)\n",
    "print(D_al_6, \"m/s2\")\n",
    "freq_al_55, hop_distance_al_55 = al_55_run.get_hopping_freq_dist(1000, 3000, \"center\", 8.0, 8.0, smooth=51)\n",
    "D_al_55 = freq_al_55*1e12*hop_distance_al_55**2*1e-20/6\n",
    "print(freq_al_55, hop_distance_al_55)\n",
    "print(D_al_55, \"m/s2\")\n",
    "freq_mn_6, hop_distance_mn_6 = mn_6_run.get_hopping_freq_dist(1000, 3000, \"center\", 8.0, 8.0, smooth=51)\n",
    "D_mn_6 = freq_mn_6*1e12*hop_distance_mn_6**2*1e-20/6\n",
    "print(freq_mn_6, hop_distance_mn_6)\n",
    "print(D_mn_6, \"m/s2\")\n",
    "freq_mn_55, hop_distance_mn_55 = mn_55_run.get_hopping_freq_dist(1000, 3000, \"center\", 8.0, 8.0, smooth=51)\n",
    "D_mn_55 = freq_mn_55*1e12*hop_distance_mn_55**2*1e-20/6\n",
    "print(freq_mn_55, hop_distance_mn_55)\n",
    "print(D_mn_55, \"m/s2\")"
   ]
  },
  {
   "cell_type": "code",
   "execution_count": 31,
   "metadata": {},
   "outputs": [
    {
     "data": {
      "application/vnd.jupyter.widget-view+json": {
       "model_id": "b33fb72e2b624b2cbcc25fea00185c73",
       "version_major": 2,
       "version_minor": 0
      },
      "text/plain": [
       "HBox(children=(HTML(value=''), FloatProgress(value=0.0, max=48.0), HTML(value='')))"
      ]
     },
     "metadata": {},
     "output_type": "display_data"
    },
    {
     "name": "stdout",
     "output_type": "stream",
     "text": [
      "\n"
     ]
    }
   ],
   "source": [
    "run_start = int(10000/10)\n",
    "run_end = int(50000/10)\n",
    "al_6_msd_free, al_6_msd_attach = al_6_run.get_msd_partial(3.2, run_start, run_end, largest=1000)"
   ]
  },
  {
   "cell_type": "code",
   "execution_count": 32,
   "metadata": {},
   "outputs": [
    {
     "data": {
      "application/vnd.jupyter.widget-view+json": {
       "model_id": "b3d5469ac22145f5b780e715447893b0",
       "version_major": 2,
       "version_minor": 0
      },
      "text/plain": [
       "HBox(children=(HTML(value=''), FloatProgress(value=0.0, max=48.0), HTML(value='')))"
      ]
     },
     "metadata": {},
     "output_type": "display_data"
    },
    {
     "name": "stdout",
     "output_type": "stream",
     "text": [
      "\n"
     ]
    }
   ],
   "source": [
    "al_55_msd_free, al_55_msd_attach = al_55_run.get_msd_partial(3.4, run_start, run_end, largest=1000)"
   ]
  },
  {
   "cell_type": "code",
   "execution_count": 33,
   "metadata": {},
   "outputs": [
    {
     "data": {
      "application/vnd.jupyter.widget-view+json": {
       "model_id": "4e1d35e774b0437c9519bd16395da758",
       "version_major": 2,
       "version_minor": 0
      },
      "text/plain": [
       "HBox(children=(HTML(value=''), FloatProgress(value=0.0, max=48.0), HTML(value='')))"
      ]
     },
     "metadata": {},
     "output_type": "display_data"
    },
    {
     "name": "stdout",
     "output_type": "stream",
     "text": [
      "\n"
     ]
    }
   ],
   "source": [
    "\n",
    "mn_6_msd_free, mn_6_msd_attach = mn_6_run.get_msd_partial(3.2, run_start, run_end, largest=1000)\n"
   ]
  },
  {
   "cell_type": "code",
   "execution_count": 34,
   "metadata": {},
   "outputs": [],
   "source": [
    "#mn_55_msd_free, mn_55_msd_attach = mn_55_run.get_msd_partial(3.2, run_start, run_end, largest=1000)"
   ]
  },
  {
   "cell_type": "code",
   "execution_count": 35,
   "metadata": {},
   "outputs": [
    {
     "data": {
      "text/plain": [
       "[<matplotlib.lines.Line2D at 0x1603778d0>]"
      ]
     },
     "execution_count": 35,
     "metadata": {},
     "output_type": "execute_result"
    },
    {
     "data": {
      "image/png": "[encoded data removed]",
      "text/plain": [
       "<Figure size 432x288 with 1 Axes>"
      ]
     },
     "metadata": {
      "needs_background": "light"
     },
     "output_type": "display_data"
    }
   ],
   "source": [
    "plt.plot(al_6_msd_free)"
   ]
  },
  {
   "cell_type": "code",
   "execution_count": 36,
   "metadata": {},
   "outputs": [
    {
     "data": {
      "text/plain": [
       "[<matplotlib.lines.Line2D at 0x1164c6250>]"
      ]
     },
     "execution_count": 36,
     "metadata": {},
     "output_type": "execute_result"
    },
    {
     "data": {
      "image/png": "[encoded data removed]",
      "text/plain": [
       "<Figure size 432x288 with 1 Axes>"
      ]
     },
     "metadata": {
      "needs_background": "light"
     },
     "output_type": "display_data"
    }
   ],
   "source": [
    "plt.plot(al_6_msd_attach)"
   ]
  },
  {
   "cell_type": "code",
   "execution_count": 38,
   "metadata": {},
   "outputs": [
    {
     "name": "stdout",
     "output_type": "stream",
     "text": [
      "Diffusivity of 8.78% Li:  7.534154256184897e-12 m^2/s\n",
      "Conductivity of 8.78% Li:  0.049812821591261124 mS/cm\n"
     ]
    }
   ],
   "source": [
    "al_6_run.get_d(al_6_msd_free, 0, 10, percentage=float(cna_al_6_o.iloc[0]['Percentage'][:-1])/100)"
   ]
  },
  {
   "cell_type": "code",
   "execution_count": 39,
   "metadata": {},
   "outputs": [
    {
     "name": "stdout",
     "output_type": "stream",
     "text": [
      "Diffusivity of 91.22% Li:  1.369476980633206e-12 m^2/s\n",
      "Conductivity of 91.22% Li:  0.09410532511164063 mS/cm\n"
     ]
    }
   ],
   "source": [
    "al_6_run.get_d(al_6_msd_attach, 200, 800, percentage=1-float(cna_al_6_o.iloc[0]['Percentage'][:-1])/100)"
   ]
  },
  {
   "cell_type": "code",
   "execution_count": 40,
   "metadata": {},
   "outputs": [
    {
     "data": {
      "text/plain": [
       "[<matplotlib.lines.Line2D at 0x161e09f10>]"
      ]
     },
     "execution_count": 40,
     "metadata": {},
     "output_type": "execute_result"
    },
    {
     "data": {
      "image/png": "[encoded data removed]",
      "text/plain": [
       "<Figure size 432x288 with 1 Axes>"
      ]
     },
     "metadata": {
      "needs_background": "light"
     },
     "output_type": "display_data"
    }
   ],
   "source": [
    "plt.plot(al_55_msd_free)"
   ]
  },
  {
   "cell_type": "code",
   "execution_count": 41,
   "metadata": {},
   "outputs": [
    {
     "data": {
      "text/plain": [
       "[<matplotlib.lines.Line2D at 0x169e99310>]"
      ]
     },
     "execution_count": 41,
     "metadata": {},
     "output_type": "execute_result"
    },
    {
     "data": {
      "image/png": "[encoded data removed]",
      "text/plain": [
       "<Figure size 432x288 with 1 Axes>"
      ]
     },
     "metadata": {
      "needs_background": "light"
     },
     "output_type": "display_data"
    }
   ],
   "source": [
    "plt.plot(al_55_msd_attach)"
   ]
  },
  {
   "cell_type": "code",
   "execution_count": 42,
   "metadata": {},
   "outputs": [
    {
     "name": "stdout",
     "output_type": "stream",
     "text": [
      "Diffusivity of 16.72% Li:  3.6422411600748696e-13 m^2/s\n",
      "Conductivity of 16.72% Li:  0.004582751507759995 mS/cm\n"
     ]
    }
   ],
   "source": [
    "al_55_run.get_d(al_55_msd_free, 50, 100, percentage=float(cna_al_55_o.iloc[0]['Percentage'][:-1])/100)"
   ]
  },
  {
   "cell_type": "code",
   "execution_count": 43,
   "metadata": {},
   "outputs": [
    {
     "name": "stdout",
     "output_type": "stream",
     "text": [
      "Diffusivity of 83.28% Li:  8.482742309570311e-13 m^2/s\n",
      "Conductivity of 83.28% Li:  0.05316850781796514 mS/cm\n"
     ]
    }
   ],
   "source": [
    "al_55_run.get_d(al_55_msd_attach, 100, 400, percentage=1-float(cna_al_55_o.iloc[0]['Percentage'][:-1])/100)"
   ]
  },
  {
   "cell_type": "code",
   "execution_count": 44,
   "metadata": {},
   "outputs": [
    {
     "data": {
      "text/plain": [
       "[<matplotlib.lines.Line2D at 0x160980850>]"
      ]
     },
     "execution_count": 44,
     "metadata": {},
     "output_type": "execute_result"
    },
    {
     "data": {
      "image/png": "[encoded data removed]",
      "text/plain": [
       "<Figure size 432x288 with 1 Axes>"
      ]
     },
     "metadata": {
      "needs_background": "light"
     },
     "output_type": "display_data"
    }
   ],
   "source": [
    "plt.plot(mn_6_msd_free)"
   ]
  },
  {
   "cell_type": "code",
   "execution_count": 45,
   "metadata": {},
   "outputs": [
    {
     "data": {
      "text/plain": [
       "[<matplotlib.lines.Line2D at 0x160ac0650>]"
      ]
     },
     "execution_count": 45,
     "metadata": {},
     "output_type": "execute_result"
    },
    {
     "data": {
      "image/png": "[encoded data removed]",
      "text/plain": [
       "<Figure size 432x288 with 1 Axes>"
      ]
     },
     "metadata": {
      "needs_background": "light"
     },
     "output_type": "display_data"
    }
   ],
   "source": [
    "plt.plot(mn_6_msd_attach)"
   ]
  },
  {
   "cell_type": "code",
   "execution_count": 46,
   "metadata": {},
   "outputs": [
    {
     "name": "stdout",
     "output_type": "stream",
     "text": [
      "Diffusivity of 13.31% Li:  7.082939147949219e-14 m^2/s\n",
      "Conductivity of 13.31% Li:  0.0007149324038320286 mS/cm\n"
     ]
    }
   ],
   "source": [
    "mn_6_run.get_d(mn_6_msd_free, 100, 200, percentage=float(cna_mn_6_o.iloc[0]['Percentage'][:-1])/100)"
   ]
  },
  {
   "cell_type": "code",
   "execution_count": 47,
   "metadata": {},
   "outputs": [
    {
     "name": "stdout",
     "output_type": "stream",
     "text": [
      "Diffusivity of 86.69% Li:  1.0691706339518228e-12 m^2/s\n",
      "Conductivity of 86.69% Li:  0.07029969323902503 mS/cm\n"
     ]
    }
   ],
   "source": [
    "mn_6_run.get_d(mn_6_msd_attach, 100, 300, percentage=1-float(cna_mn_6_o.iloc[0]['Percentage'][:-1])/100)"
   ]
  },
  {
   "cell_type": "code",
   "execution_count": 50,
   "metadata": {},
   "outputs": [],
   "source": [
    "#plt.plot(mn_55_msd_free)\n",
    "#plt.plot(mn_55_msd_attach)\n",
    "#mn_55_run.get_d(mn_55_msd_free, 550, 600, percentage=float(cna_mn_55_o.iloc[0]['Percentage'][:-1])/100)\n",
    "#mn_55_run.get_d(mn_55_msd_attach, 0, 100, percentage=1-float(cna_mn_55_o.iloc[0]['Percentage'][:-1])/100)"
   ]
  },
  {
   "cell_type": "code",
   "execution_count": 49,
   "metadata": {},
   "outputs": [],
   "source": []
  },
  {
   "cell_type": "code",
   "execution_count": null,
   "metadata": {},
   "outputs": [],
   "source": []
  },
  {
   "cell_type": "code",
   "execution_count": null,
   "metadata": {},
   "outputs": [],
   "source": []
  },
  {
   "cell_type": "code",
   "execution_count": null,
   "metadata": {},
   "outputs": [],
   "source": []
  }
 ],
 "metadata": {
  "kernelspec": {
   "display_name": "“mdanalysis”",
   "language": "python",
   "name": "mdanalysis"
  },
  "language_info": {
   "codemirror_mode": {
    "name": "ipython",
    "version": 3
   },
   "file_extension": ".py",
   "mimetype": "text/x-python",
   "name": "python",
   "nbconvert_exporter": "python",
   "pygments_lexer": "ipython3",
   "version": "3.7.8"
  }
 },
 "nbformat": 4,
 "nbformat_minor": 4
}

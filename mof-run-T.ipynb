{
 "cells": [
  {
   "cell_type": "markdown",
   "metadata": {},
   "source": [
    "## 0.Initiation"
   ]
  },
  {
   "cell_type": "code",
   "execution_count": null,
   "metadata": {},
   "outputs": [],
   "source": [
    "#%load_ext autoreload\n",
    "#%autoreload 2"
   ]
  },
  {
   "cell_type": "code",
   "execution_count": 2,
   "metadata": {},
   "outputs": [],
   "source": [
    "from mdgo.core import MdRun\n",
    "import MDAnalysis\n",
    "import matplotlib.pyplot as plt\n",
    "%matplotlib inline"
   ]
  },
  {
   "cell_type": "code",
   "execution_count": 3,
   "metadata": {},
   "outputs": [
    {
     "data": {
      "application/vnd.jupyter.widget-view+json": {
       "model_id": "bb1d5fa514864625875fdee53414e573",
       "version_major": 2,
       "version_minor": 0
      },
      "text/plain": [
       "HBox(children=(HTML(value=''), FloatProgress(value=0.0, max=5001.0), HTML(value='')))"
      ]
     },
     "metadata": {},
     "output_type": "display_data"
    },
    {
     "name": "stdout",
     "output_type": "stream",
     "text": [
      "\n"
     ]
    },
    {
     "data": {
      "application/vnd.jupyter.widget-view+json": {
       "model_id": "9ad5f715cfb144c7bf0949283ea0db34",
       "version_major": 2,
       "version_minor": 0
      },
      "text/plain": [
       "HBox(children=(HTML(value=''), FloatProgress(value=0.0, max=5001.0), HTML(value='')))"
      ]
     },
     "metadata": {},
     "output_type": "display_data"
    },
    {
     "name": "stdout",
     "output_type": "stream",
     "text": [
      "\n"
     ]
    },
    {
     "data": {
      "application/vnd.jupyter.widget-view+json": {
       "model_id": "56cb7f47216a408b8b50f2a8503a5128",
       "version_major": 2,
       "version_minor": 0
      },
      "text/plain": [
       "HBox(children=(HTML(value=''), FloatProgress(value=0.0, max=5001.0), HTML(value='')))"
      ]
     },
     "metadata": {},
     "output_type": "display_data"
    },
    {
     "name": "stdout",
     "output_type": "stream",
     "text": [
      "\n"
     ]
    },
    {
     "data": {
      "application/vnd.jupyter.widget-view+json": {
       "model_id": "0082aed851f4499fab7c22b55b62ee05",
       "version_major": 2,
       "version_minor": 0
      },
      "text/plain": [
       "HBox(children=(HTML(value=''), FloatProgress(value=0.0, max=5001.0), HTML(value='')))"
      ]
     },
     "metadata": {},
     "output_type": "display_data"
    },
    {
     "name": "stdout",
     "output_type": "stream",
     "text": [
      "\n"
     ]
    },
    {
     "data": {
      "application/vnd.jupyter.widget-view+json": {
       "model_id": "5b0041537be143918131052714994f56",
       "version_major": 2,
       "version_minor": 0
      },
      "text/plain": [
       "HBox(children=(HTML(value=''), FloatProgress(value=0.0, max=5001.0), HTML(value='')))"
      ]
     },
     "metadata": {},
     "output_type": "display_data"
    },
    {
     "name": "stdout",
     "output_type": "stream",
     "text": [
      "\n"
     ]
    },
    {
     "data": {
      "application/vnd.jupyter.widget-view+json": {
       "model_id": "571ffd8ac4dd40899bdc34bac1d86331",
       "version_major": 2,
       "version_minor": 0
      },
      "text/plain": [
       "HBox(children=(HTML(value=''), FloatProgress(value=0.0, max=5001.0), HTML(value='')))"
      ]
     },
     "metadata": {},
     "output_type": "display_data"
    },
    {
     "name": "stdout",
     "output_type": "stream",
     "text": [
      "\n"
     ]
    }
   ],
   "source": [
    "mn_6_233 = MdRun(\"/Users/th/Downloads/mof_project/mn_T/233/mof_mn_170pc_0.6.data\",\n",
    "                 \"/Users/th/Downloads/mof_project/mn_T/233/LiXWT_npt_nvt.dcd\",\n",
    "                 \"/Users/th/Downloads/mof_project/mn_T/233/LiXWT_npt_unwrapped_nvt.dcd\",\n",
    "                 500, 10, \"mof mn 6 233K\", \n",
    "                 {\"cation\": \"type 10\", \"anion\": \"same charge as index 113\", \"PC\": \"type 12\", \"center\": \"type 7\"},\n",
    "                 anion_charge=-1/4)\n",
    "mn_6_253 = MdRun(\"/Users/th/Downloads/mof_project/mn_T/253/mof_mn_170pc_0.6.data\",\n",
    "                 \"/Users/th/Downloads/mof_project/mn_T/253/LiXWT_npt_nvt.dcd\",\n",
    "                 \"/Users/th/Downloads/mof_project/mn_T/253/LiXWT_npt_unwrapped_nvt.dcd\",\n",
    "                 500, 10, \"mof mn 6 253K\", \n",
    "                 {\"cation\": \"type 10\", \"anion\": \"same charge as index 113\", \"PC\": \"type 12\", \"center\": \"type 7\"},\n",
    "                 anion_charge=-1/4)\n",
    "mn_6_273 = MdRun(\"/Users/th/Downloads/mof_project/mn_T/273/mof_mn_170pc_0.6.data\",\n",
    "                 \"/Users/th/Downloads/mof_project/mn_T/273/LiXWT_npt_nvt.dcd\",\n",
    "                 \"/Users/th/Downloads/mof_project/mn_T/273/LiXWT_npt_unwrapped_nvt.dcd\",\n",
    "                 500, 10, \"mof mn 6 273K\", \n",
    "                 {\"cation\": \"type 10\", \"anion\": \"same charge as index 113\", \"PC\": \"type 12\", \"center\": \"type 7\"},\n",
    "                 anion_charge=-1/4)\n",
    "mn_6_293 = MdRun(\"/Users/th/Downloads/mof_project/mn_T/293/mof_mn_170pc_0.6.data\",\n",
    "                 \"/Users/th/Downloads/mof_project/mn_T/293/LiXWT_npt_nvt.dcd\",\n",
    "                 \"/Users/th/Downloads/mof_project/mn_T/293/LiXWT_npt_unwrapped_nvt.dcd\",\n",
    "                 500, 10, \"mof mn 6 293K\", \n",
    "                 {\"cation\": \"type 10\", \"anion\": \"same charge as index 113\", \"PC\": \"type 12\", \"center\": \"type 7\"},\n",
    "                 anion_charge=-1/4)\n",
    "mn_6_313 = MdRun(\"/Users/th/Downloads/mof_project/mn_T/313/mof_mn_170pc_0.6.data\",\n",
    "                 \"/Users/th/Downloads/mof_project/mn_T/313/LiXWT_npt_nvt.dcd\",\n",
    "                 \"/Users/th/Downloads/mof_project/mn_T/313/LiXWT_npt_unwrapped_nvt.dcd\",\n",
    "                 500, 10, \"mof mn 6 313K\", \n",
    "                 {\"cation\": \"type 10\", \"anion\": \"same charge as index 113\", \"PC\": \"type 12\", \"center\": \"type 7\"},\n",
    "                 anion_charge=-1/4)\n",
    "mn_6_333 = MdRun(\"/Users/th/Downloads/mof_project/mn_T/333/mof_mn_170pc_0.6.data\",\n",
    "                 \"/Users/th/Downloads/mof_project/mn_T/333/LiXWT_npt_nvt.dcd\",\n",
    "                 \"/Users/th/Downloads/mof_project/mn_T/333/LiXWT_npt_unwrapped_nvt.dcd\",\n",
    "                 500, 10, \"mof mn 6 333K\", \n",
    "                 {\"cation\": \"type 10\", \"anion\": \"same charge as index 113\", \"PC\": \"type 12\", \"center\": \"type 7\"},\n",
    "                 anion_charge=-1/4)"
   ]
  },
  {
   "cell_type": "markdown",
   "metadata": {},
   "source": [
    "## 1.Conductivity"
   ]
  },
  {
   "cell_type": "code",
   "execution_count": 162,
   "metadata": {},
   "outputs": [
    {
     "name": "stderr",
     "output_type": "stream",
     "text": [
      "/Users/th/anaconda/envs/mdanalysis/lib/python3.7/site-packages/ipykernel_launcher.py:17: UserWarning: Matplotlib is currently using module://ipykernel.pylab.backend_inline, which is a non-GUI backend, so cannot show the figure.\n"
     ]
    },
    {
     "data": {
      "image/png": "[encoded data removed]",
      "text/plain": [
       "<Figure size 432x288 with 1 Axes>"
      ]
     },
     "metadata": {
      "needs_background": "light"
     },
     "output_type": "display_data"
    }
   ],
   "source": [
    "# start and end of fitting region selection (linear regime)\n",
    "start = int(1000/10)\n",
    "end = int(25000/10)\n",
    "colors = [\"b\", \"g\", \"r\", \"c\", \"m\", \"y\", \"k\"]\n",
    "fig = plt.figure()\n",
    "ax = fig.add_subplot(1, 1, 1)\n",
    "runs = [mn_6_233, mn_6_253, mn_6_273, mn_6_293, mn_6_313, mn_6_333]\n",
    "for i, run in enumerate(runs):\n",
    "    line = ax.loglog(run.time_array[start:end],\n",
    "                     run.cond_array[start:end], color=colors[i], lw=2,\n",
    "                     label=run.name)\n",
    "ax.set_ylabel('MSD (A^2)')\n",
    "ax.set_xlabel('Time (ps)')\n",
    "ax.set_ylim([20, 10000])\n",
    "ax.set_xlim([100, 1000000])\n",
    "ax.legend()\n",
    "fig.show()\n"
   ]
  },
  {
   "cell_type": "code",
   "execution_count": 156,
   "metadata": {},
   "outputs": [
    {
     "name": "stdout",
     "output_type": "stream",
     "text": [
      "Conductivity of mof mn 6 233K: 0.012620063651529153 ± 4.023830906886372e-05 mS/cm\n",
      "Conductivity of mof mn 6 253K: 0.037233859901620474 ± 6.30961785884539e-05 mS/cm\n",
      "Conductivity of mof mn 6 273K: 0.09899816155476768 ± 0.00036229425573059944 mS/cm\n",
      "Conductivity of mof mn 6 293K: 0.1859570666016404 ± 0.0005024835452260471 mS/cm\n",
      "Conductivity of mof mn 6 313K: 0.36326581416429476 ± 0.0021269441576456734 mS/cm\n",
      "Conductivity of mof mn 6 333K: 0.6107986879484393 ± 0.0020688324023379035 mS/cm\n"
     ]
    }
   ],
   "source": [
    "start = int(1000/10)\n",
    "end = int(30000/10)\n",
    "mn_6_233.get_conductivity(start, end)\n",
    "start = int(1000/10)\n",
    "end = int(30000/10)\n",
    "mn_6_253.get_conductivity(start, end)\n",
    "start = int(1000/10)\n",
    "end = int(5000/10)\n",
    "mn_6_273.get_conductivity(start, end)\n",
    "start = int(15000/10)\n",
    "end = int(25000/10)\n",
    "mn_6_293.get_conductivity(start, end)\n",
    "start = int(15000/10)\n",
    "end = int(25000/10)\n",
    "mn_6_313.get_conductivity(start, end)\n",
    "start = int(1000/10)\n",
    "end = int(8000/10)\n",
    "mn_6_333.get_conductivity(start, end)"
   ]
  },
  {
   "cell_type": "code",
   "execution_count": 35,
   "metadata": {},
   "outputs": [
    {
     "data": {
      "text/plain": [
       "array([3.003003  , 3.19488818, 3.41296928, 3.66300366, 3.95256917,\n",
       "       4.29184549])"
      ]
     },
     "execution_count": 35,
     "metadata": {},
     "output_type": "execute_result"
    }
   ],
   "source": [
    "one_over_t"
   ]
  },
  {
   "cell_type": "code",
   "execution_count": 159,
   "metadata": {},
   "outputs": [
    {
     "data": {
      "text/plain": [
       "array([-3.2141019 , -3.43977547, -3.73058731, -4.00437287, -4.42906194,\n",
       "       -4.89893845])"
      ]
     },
     "execution_count": 159,
     "metadata": {},
     "output_type": "execute_result"
    }
   ],
   "source": [
    "log_sigma"
   ]
  },
  {
   "cell_type": "code",
   "execution_count": 141,
   "metadata": {},
   "outputs": [
    {
     "data": {
      "text/plain": [
       "array([0.0014351 , 0.00255029, 0.00068483, 0.00159226, 0.00073658,\n",
       "       0.00138693])"
      ]
     },
     "execution_count": 141,
     "metadata": {},
     "output_type": "execute_result"
    }
   ],
   "source": [
    "error = np.array([4.023830906886372e-05, 6.30961785884539e-05, 0.00036229425573059944,\n",
    "                  0.0002733664193072361, 0.0021269441576456734, 0.0023355509274789817])\n",
    "-np.log10((cond_t - error[::-1])/1000)+log_sigma"
   ]
  },
  {
   "cell_type": "code",
   "execution_count": 73,
   "metadata": {},
   "outputs": [
    {
     "data": {
      "text/plain": [
       "array([0.09342075, 0.06070874, 0.03290345, 0.01521479, 0.00560749,\n",
       "       0.00131288])"
      ]
     },
     "execution_count": 73,
     "metadata": {},
     "output_type": "execute_result"
    }
   ],
   "source": [
    "cond_exp = np.array([10**-3.02955665, 10**-3.216748768, 10**-3.482758621, \n",
    "                     10**-3.81773399, 10**-4.251231527, 10**-4.881773399])*100\n",
    "cond_exp"
   ]
  },
  {
   "cell_type": "code",
   "execution_count": 72,
   "metadata": {},
   "outputs": [
    {
     "data": {
      "text/plain": [
       "array([0.05620227, 0.02249523, 0.01213267, 0.0064037 , 0.00249129,\n",
       "       0.00093774])"
      ]
     },
     "execution_count": 72,
     "metadata": {},
     "output_type": "execute_result"
    }
   ],
   "source": [
    "y"
   ]
  },
  {
   "cell_type": "code",
   "execution_count": 160,
   "metadata": {},
   "outputs": [
    {
     "data": {
      "text/plain": [
       "array([-2888.98599899,     5.89254325])"
      ]
     },
     "execution_count": 160,
     "metadata": {},
     "output_type": "execute_result"
    }
   ],
   "source": [
    "y = cond_t/10\n",
    "np.polyfit(one_over_t/1000, np.log(y), 1, w = np.sqrt(y))"
   ]
  },
  {
   "cell_type": "code",
   "execution_count": 157,
   "metadata": {},
   "outputs": [
    {
     "data": {
      "text/plain": [
       "(-5.25, -2.75)"
      ]
     },
     "execution_count": 157,
     "metadata": {},
     "output_type": "execute_result"
    },
    {
     "data": {
      "image/png": "[encoded data removed]",
      "text/plain": [
       "<Figure size 432x288 with 1 Axes>"
      ]
     },
     "metadata": {
      "needs_background": "light"
     },
     "output_type": "display_data"
    }
   ],
   "source": [
    "import numpy as np\n",
    "one_over_t = np.array([1/333, 1/313, 1/293, 1/273, 1/253, 1/233])*1000\n",
    "cond_t = np.array([0.6107986879484393, 0.36326581416429476, 0.1859570666016404,\n",
    "                   0.09899816155476768, 0.037233859901620474, 0.012620063651529153])\n",
    "log_sigma = np.log10(cond_t/1000)\n",
    "plt.plot(one_over_t, log_sigma)\n",
    "plt.xlim((2.8, 4.4))\n",
    "plt.ylim((-5.25, -2.75))"
   ]
  },
  {
   "cell_type": "code",
   "execution_count": 121,
   "metadata": {},
   "outputs": [
    {
     "name": "stdout",
     "output_type": "stream",
     "text": [
      "Conductivity of mof al 6 run0: 0.19071491820730282 ± 0.0004285803230447185 mS/cm\n"
     ]
    }
   ],
   "source": [
    "start = int(1000/10)\n",
    "end = int(5000/10)\n",
    "al_6_run.get_conductivity(start, end)"
   ]
  },
  {
   "cell_type": "code",
   "execution_count": 120,
   "metadata": {},
   "outputs": [
    {
     "name": "stdout",
     "output_type": "stream",
     "text": [
      "Conductivity of mof al 55 run0: 0.4601466036578299 ± 0.000986917704721458 mS/cm\n"
     ]
    }
   ],
   "source": [
    "start = int(1000/10)\n",
    "end = int(5000/10)\n",
    "al_55_run.get_conductivity(start, end)"
   ]
  },
  {
   "cell_type": "code",
   "execution_count": 118,
   "metadata": {},
   "outputs": [
    {
     "name": "stdout",
     "output_type": "stream",
     "text": [
      "Conductivity of mof mn 6 run0: 0.16288550445511576 ± 0.0007940204766882893 mS/cm\n"
     ]
    }
   ],
   "source": [
    "# STAR\n",
    "start = int(1000/10)\n",
    "end = int(3000/10)\n",
    "mn_6_run.get_conductivity(start, end)"
   ]
  },
  {
   "cell_type": "code",
   "execution_count": 117,
   "metadata": {},
   "outputs": [
    {
     "name": "stdout",
     "output_type": "stream",
     "text": [
      "Conductivity of mof mn 55 run0: 0.6160028538116205 ± 0.0017872313491850823 mS/cm\n"
     ]
    }
   ],
   "source": [
    "start = int(10000/10)\n",
    "end = int(20000/10)\n",
    "mn_55_run.get_conductivity(start, end)"
   ]
  },
  {
   "cell_type": "markdown",
   "metadata": {},
   "source": [
    "## 2.Coordination"
   ]
  },
  {
   "cell_type": "code",
   "execution_count": 8,
   "metadata": {},
   "outputs": [
    {
     "data": {
      "application/vnd.jupyter.widget-view+json": {
       "model_id": "34053f6fe13849b4a21b62fca6dde6e0",
       "version_major": 2,
       "version_minor": 0
      },
      "text/plain": [
       "HBox(children=(HTML(value=''), FloatProgress(value=0.0, max=47.0), HTML(value='')))"
      ]
     },
     "metadata": {},
     "output_type": "display_data"
    },
    {
     "name": "stdout",
     "output_type": "stream",
     "text": [
      "\n"
     ]
    },
    {
     "data": {
      "application/vnd.jupyter.widget-view+json": {
       "model_id": "7dd2b61c2801454a8a90fed2916df38d",
       "version_major": 2,
       "version_minor": 0
      },
      "text/plain": [
       "HBox(children=(HTML(value=''), FloatProgress(value=0.0, max=47.0), HTML(value='')))"
      ]
     },
     "metadata": {},
     "output_type": "display_data"
    },
    {
     "name": "stdout",
     "output_type": "stream",
     "text": [
      "\n"
     ]
    },
    {
     "data": {
      "application/vnd.jupyter.widget-view+json": {
       "model_id": "802c3b878fe44d0ea7e7fa8e6f135dc3",
       "version_major": 2,
       "version_minor": 0
      },
      "text/plain": [
       "HBox(children=(HTML(value=''), FloatProgress(value=0.0, max=47.0), HTML(value='')))"
      ]
     },
     "metadata": {},
     "output_type": "display_data"
    },
    {
     "name": "stdout",
     "output_type": "stream",
     "text": [
      "\n"
     ]
    },
    {
     "data": {
      "application/vnd.jupyter.widget-view+json": {
       "model_id": "f82f00c180fd4185a1cf125ccd440431",
       "version_major": 2,
       "version_minor": 0
      },
      "text/plain": [
       "HBox(children=(HTML(value=''), FloatProgress(value=0.0, max=47.0), HTML(value='')))"
      ]
     },
     "metadata": {},
     "output_type": "display_data"
    },
    {
     "name": "stdout",
     "output_type": "stream",
     "text": [
      "\n"
     ]
    },
    {
     "data": {
      "application/vnd.jupyter.widget-view+json": {
       "model_id": "c37d2f46a74247899a73081f96615f0c",
       "version_major": 2,
       "version_minor": 0
      },
      "text/plain": [
       "HBox(children=(HTML(value=''), FloatProgress(value=0.0, max=47.0), HTML(value='')))"
      ]
     },
     "metadata": {},
     "output_type": "display_data"
    },
    {
     "name": "stdout",
     "output_type": "stream",
     "text": [
      "\n"
     ]
    },
    {
     "data": {
      "application/vnd.jupyter.widget-view+json": {
       "model_id": "fdf3e2b791c6442184b00ccd9f8fe279",
       "version_major": 2,
       "version_minor": 0
      },
      "text/plain": [
       "HBox(children=(HTML(value=''), FloatProgress(value=0.0, max=47.0), HTML(value='')))"
      ]
     },
     "metadata": {},
     "output_type": "display_data"
    },
    {
     "name": "stdout",
     "output_type": "stream",
     "text": [
      "\n"
     ]
    },
    {
     "data": {
      "application/vnd.jupyter.widget-view+json": {
       "model_id": "d259a40dc3a840399e2a19038ebd38ca",
       "version_major": 2,
       "version_minor": 0
      },
      "text/plain": [
       "HBox(children=(HTML(value=''), FloatProgress(value=0.0, max=47.0), HTML(value='')))"
      ]
     },
     "metadata": {},
     "output_type": "display_data"
    },
    {
     "name": "stdout",
     "output_type": "stream",
     "text": [
      "\n"
     ]
    },
    {
     "data": {
      "application/vnd.jupyter.widget-view+json": {
       "model_id": "f162ddcc2c7e43f5893d40c20685a2c1",
       "version_major": 2,
       "version_minor": 0
      },
      "text/plain": [
       "HBox(children=(HTML(value=''), FloatProgress(value=0.0, max=47.0), HTML(value='')))"
      ]
     },
     "metadata": {},
     "output_type": "display_data"
    },
    {
     "name": "stdout",
     "output_type": "stream",
     "text": [
      "\n"
     ]
    }
   ],
   "source": [
    "run_start = int(10000/10)\n",
    "run_end = int(50000/10)\n",
    "cna_al_6_o = al_6_run.coordination_one_species('anion', 3.2, run_start, run_end)\n",
    "cna_al_6_pc = al_6_run.coordination_one_species('PC', 3.2, run_start, run_end)\n",
    "cna_al_55_o = al_55_run.coordination_one_species('anion', 3.4, run_start, run_end)\n",
    "cna_al_55_pc = al_55_run.coordination_one_species('PC', 3.4, run_start, run_end)\n",
    "cna_mn_6_o = mn_6_run.coordination_one_species('anion', 3.2, run_start, run_end)\n",
    "cna_mn_6_pc = mn_6_run.coordination_one_species('PC', 3.2, run_start, run_end)\n",
    "cna_mn_55_o = mn_55_run.coordination_one_species('anion', 3.4, run_start, run_end)\n",
    "cna_mn_55_pc = mn_55_run.coordination_one_species('PC', 3.4, run_start, run_end)"
   ]
  },
  {
   "cell_type": "code",
   "execution_count": 9,
   "metadata": {},
   "outputs": [
    {
     "data": {
      "text/html": [
       "<div>\n",
       "<style scoped>\n",
       "    .dataframe tbody tr th:only-of-type {\n",
       "        vertical-align: middle;\n",
       "    }\n",
       "\n",
       "    .dataframe tbody tr th {\n",
       "        vertical-align: top;\n",
       "    }\n",
       "\n",
       "    .dataframe thead th {\n",
       "        text-align: right;\n",
       "    }\n",
       "</style>\n",
       "<table border=\"1\" class=\"dataframe\">\n",
       "  <thead>\n",
       "    <tr style=\"text-align: right;\">\n",
       "      <th></th>\n",
       "      <th>Num of anion within 3.2 Å</th>\n",
       "      <th>Percentage</th>\n",
       "    </tr>\n",
       "  </thead>\n",
       "  <tbody>\n",
       "    <tr>\n",
       "      <th>0</th>\n",
       "      <td>0</td>\n",
       "      <td>8.5818%</td>\n",
       "    </tr>\n",
       "    <tr>\n",
       "      <th>1</th>\n",
       "      <td>1</td>\n",
       "      <td>25.7922%</td>\n",
       "    </tr>\n",
       "    <tr>\n",
       "      <th>2</th>\n",
       "      <td>2</td>\n",
       "      <td>53.0380%</td>\n",
       "    </tr>\n",
       "    <tr>\n",
       "      <th>3</th>\n",
       "      <td>3</td>\n",
       "      <td>8.9953%</td>\n",
       "    </tr>\n",
       "    <tr>\n",
       "      <th>4</th>\n",
       "      <td>4</td>\n",
       "      <td>3.5771%</td>\n",
       "    </tr>\n",
       "    <tr>\n",
       "      <th>5</th>\n",
       "      <td>5</td>\n",
       "      <td>0.0156%</td>\n",
       "    </tr>\n",
       "  </tbody>\n",
       "</table>\n",
       "</div>"
      ],
      "text/plain": [
       "  Num of anion within 3.2 Å Percentage\n",
       "0                         0    8.5818%\n",
       "1                         1   25.7922%\n",
       "2                         2   53.0380%\n",
       "3                         3    8.9953%\n",
       "4                         4    3.5771%\n",
       "5                         5    0.0156%"
      ]
     },
     "execution_count": 9,
     "metadata": {},
     "output_type": "execute_result"
    }
   ],
   "source": [
    "cna_al_6_o"
   ]
  },
  {
   "cell_type": "code",
   "execution_count": 10,
   "metadata": {},
   "outputs": [
    {
     "data": {
      "text/html": [
       "<div>\n",
       "<style scoped>\n",
       "    .dataframe tbody tr th:only-of-type {\n",
       "        vertical-align: middle;\n",
       "    }\n",
       "\n",
       "    .dataframe tbody tr th {\n",
       "        vertical-align: top;\n",
       "    }\n",
       "\n",
       "    .dataframe thead th {\n",
       "        text-align: right;\n",
       "    }\n",
       "</style>\n",
       "<table border=\"1\" class=\"dataframe\">\n",
       "  <thead>\n",
       "    <tr style=\"text-align: right;\">\n",
       "      <th></th>\n",
       "      <th>Num of PC within 3.2 Å</th>\n",
       "      <th>Percentage</th>\n",
       "    </tr>\n",
       "  </thead>\n",
       "  <tbody>\n",
       "    <tr>\n",
       "      <th>0</th>\n",
       "      <td>0</td>\n",
       "      <td>0.2198%</td>\n",
       "    </tr>\n",
       "    <tr>\n",
       "      <th>1</th>\n",
       "      <td>1</td>\n",
       "      <td>9.1469%</td>\n",
       "    </tr>\n",
       "    <tr>\n",
       "      <th>2</th>\n",
       "      <td>2</td>\n",
       "      <td>29.1974%</td>\n",
       "    </tr>\n",
       "    <tr>\n",
       "      <th>3</th>\n",
       "      <td>3</td>\n",
       "      <td>47.3307%</td>\n",
       "    </tr>\n",
       "    <tr>\n",
       "      <th>4</th>\n",
       "      <td>4</td>\n",
       "      <td>12.2005%</td>\n",
       "    </tr>\n",
       "    <tr>\n",
       "      <th>5</th>\n",
       "      <td>5</td>\n",
       "      <td>1.8401%</td>\n",
       "    </tr>\n",
       "    <tr>\n",
       "      <th>6</th>\n",
       "      <td>6</td>\n",
       "      <td>0.0646%</td>\n",
       "    </tr>\n",
       "  </tbody>\n",
       "</table>\n",
       "</div>"
      ],
      "text/plain": [
       "  Num of PC within 3.2 Å Percentage\n",
       "0                      0    0.2198%\n",
       "1                      1    9.1469%\n",
       "2                      2   29.1974%\n",
       "3                      3   47.3307%\n",
       "4                      4   12.2005%\n",
       "5                      5    1.8401%\n",
       "6                      6    0.0646%"
      ]
     },
     "execution_count": 10,
     "metadata": {},
     "output_type": "execute_result"
    }
   ],
   "source": [
    "cna_al_6_pc"
   ]
  },
  {
   "cell_type": "code",
   "execution_count": 11,
   "metadata": {},
   "outputs": [
    {
     "data": {
      "text/html": [
       "<div>\n",
       "<style scoped>\n",
       "    .dataframe tbody tr th:only-of-type {\n",
       "        vertical-align: middle;\n",
       "    }\n",
       "\n",
       "    .dataframe tbody tr th {\n",
       "        vertical-align: top;\n",
       "    }\n",
       "\n",
       "    .dataframe thead th {\n",
       "        text-align: right;\n",
       "    }\n",
       "</style>\n",
       "<table border=\"1\" class=\"dataframe\">\n",
       "  <thead>\n",
       "    <tr style=\"text-align: right;\">\n",
       "      <th></th>\n",
       "      <th>Num of anion within 3.4 Å</th>\n",
       "      <th>Percentage</th>\n",
       "    </tr>\n",
       "  </thead>\n",
       "  <tbody>\n",
       "    <tr>\n",
       "      <th>0</th>\n",
       "      <td>0</td>\n",
       "      <td>20.9286%</td>\n",
       "    </tr>\n",
       "    <tr>\n",
       "      <th>1</th>\n",
       "      <td>1</td>\n",
       "      <td>30.2385%</td>\n",
       "    </tr>\n",
       "    <tr>\n",
       "      <th>2</th>\n",
       "      <td>2</td>\n",
       "      <td>46.6781%</td>\n",
       "    </tr>\n",
       "    <tr>\n",
       "      <th>3</th>\n",
       "      <td>3</td>\n",
       "      <td>1.9932%</td>\n",
       "    </tr>\n",
       "    <tr>\n",
       "      <th>4</th>\n",
       "      <td>4</td>\n",
       "      <td>0.1604%</td>\n",
       "    </tr>\n",
       "    <tr>\n",
       "      <th>5</th>\n",
       "      <td>5</td>\n",
       "      <td>0.0010%</td>\n",
       "    </tr>\n",
       "  </tbody>\n",
       "</table>\n",
       "</div>"
      ],
      "text/plain": [
       "  Num of anion within 3.4 Å Percentage\n",
       "0                         0   20.9286%\n",
       "1                         1   30.2385%\n",
       "2                         2   46.6781%\n",
       "3                         3    1.9932%\n",
       "4                         4    0.1604%\n",
       "5                         5    0.0010%"
      ]
     },
     "execution_count": 11,
     "metadata": {},
     "output_type": "execute_result"
    }
   ],
   "source": [
    "cna_al_55_o"
   ]
  },
  {
   "cell_type": "code",
   "execution_count": 12,
   "metadata": {},
   "outputs": [
    {
     "data": {
      "text/html": [
       "<div>\n",
       "<style scoped>\n",
       "    .dataframe tbody tr th:only-of-type {\n",
       "        vertical-align: middle;\n",
       "    }\n",
       "\n",
       "    .dataframe tbody tr th {\n",
       "        vertical-align: top;\n",
       "    }\n",
       "\n",
       "    .dataframe thead th {\n",
       "        text-align: right;\n",
       "    }\n",
       "</style>\n",
       "<table border=\"1\" class=\"dataframe\">\n",
       "  <thead>\n",
       "    <tr style=\"text-align: right;\">\n",
       "      <th></th>\n",
       "      <th>Num of PC within 3.4 Å</th>\n",
       "      <th>Percentage</th>\n",
       "    </tr>\n",
       "  </thead>\n",
       "  <tbody>\n",
       "    <tr>\n",
       "      <th>0</th>\n",
       "      <td>0</td>\n",
       "      <td>0.0198%</td>\n",
       "    </tr>\n",
       "    <tr>\n",
       "      <th>1</th>\n",
       "      <td>1</td>\n",
       "      <td>1.6500%</td>\n",
       "    </tr>\n",
       "    <tr>\n",
       "      <th>2</th>\n",
       "      <td>2</td>\n",
       "      <td>22.2135%</td>\n",
       "    </tr>\n",
       "    <tr>\n",
       "      <th>3</th>\n",
       "      <td>3</td>\n",
       "      <td>50.0927%</td>\n",
       "    </tr>\n",
       "    <tr>\n",
       "      <th>4</th>\n",
       "      <td>4</td>\n",
       "      <td>21.7234%</td>\n",
       "    </tr>\n",
       "    <tr>\n",
       "      <th>5</th>\n",
       "      <td>5</td>\n",
       "      <td>3.8823%</td>\n",
       "    </tr>\n",
       "    <tr>\n",
       "      <th>6</th>\n",
       "      <td>6</td>\n",
       "      <td>0.4120%</td>\n",
       "    </tr>\n",
       "    <tr>\n",
       "      <th>7</th>\n",
       "      <td>7</td>\n",
       "      <td>0.0063%</td>\n",
       "    </tr>\n",
       "  </tbody>\n",
       "</table>\n",
       "</div>"
      ],
      "text/plain": [
       "  Num of PC within 3.4 Å Percentage\n",
       "0                      0    0.0198%\n",
       "1                      1    1.6500%\n",
       "2                      2   22.2135%\n",
       "3                      3   50.0927%\n",
       "4                      4   21.7234%\n",
       "5                      5    3.8823%\n",
       "6                      6    0.4120%\n",
       "7                      7    0.0063%"
      ]
     },
     "execution_count": 12,
     "metadata": {},
     "output_type": "execute_result"
    }
   ],
   "source": [
    "cna_al_55_pc"
   ]
  },
  {
   "cell_type": "code",
   "execution_count": 13,
   "metadata": {},
   "outputs": [
    {
     "data": {
      "text/html": [
       "<div>\n",
       "<style scoped>\n",
       "    .dataframe tbody tr th:only-of-type {\n",
       "        vertical-align: middle;\n",
       "    }\n",
       "\n",
       "    .dataframe tbody tr th {\n",
       "        vertical-align: top;\n",
       "    }\n",
       "\n",
       "    .dataframe thead th {\n",
       "        text-align: right;\n",
       "    }\n",
       "</style>\n",
       "<table border=\"1\" class=\"dataframe\">\n",
       "  <thead>\n",
       "    <tr style=\"text-align: right;\">\n",
       "      <th></th>\n",
       "      <th>Num of anion within 3.2 Å</th>\n",
       "      <th>Percentage</th>\n",
       "    </tr>\n",
       "  </thead>\n",
       "  <tbody>\n",
       "    <tr>\n",
       "      <th>0</th>\n",
       "      <td>0</td>\n",
       "      <td>6.9917%</td>\n",
       "    </tr>\n",
       "    <tr>\n",
       "      <th>1</th>\n",
       "      <td>1</td>\n",
       "      <td>29.4401%</td>\n",
       "    </tr>\n",
       "    <tr>\n",
       "      <th>2</th>\n",
       "      <td>2</td>\n",
       "      <td>63.4370%</td>\n",
       "    </tr>\n",
       "    <tr>\n",
       "      <th>3</th>\n",
       "      <td>3</td>\n",
       "      <td>0.1313%</td>\n",
       "    </tr>\n",
       "  </tbody>\n",
       "</table>\n",
       "</div>"
      ],
      "text/plain": [
       "  Num of anion within 3.2 Å Percentage\n",
       "0                         0    6.9917%\n",
       "1                         1   29.4401%\n",
       "2                         2   63.4370%\n",
       "3                         3    0.1313%"
      ]
     },
     "execution_count": 13,
     "metadata": {},
     "output_type": "execute_result"
    }
   ],
   "source": [
    "cna_mn_6_o"
   ]
  },
  {
   "cell_type": "code",
   "execution_count": 14,
   "metadata": {},
   "outputs": [
    {
     "data": {
      "text/html": [
       "<div>\n",
       "<style scoped>\n",
       "    .dataframe tbody tr th:only-of-type {\n",
       "        vertical-align: middle;\n",
       "    }\n",
       "\n",
       "    .dataframe tbody tr th {\n",
       "        vertical-align: top;\n",
       "    }\n",
       "\n",
       "    .dataframe thead th {\n",
       "        text-align: right;\n",
       "    }\n",
       "</style>\n",
       "<table border=\"1\" class=\"dataframe\">\n",
       "  <thead>\n",
       "    <tr style=\"text-align: right;\">\n",
       "      <th></th>\n",
       "      <th>Num of PC within 3.2 Å</th>\n",
       "      <th>Percentage</th>\n",
       "    </tr>\n",
       "  </thead>\n",
       "  <tbody>\n",
       "    <tr>\n",
       "      <th>0</th>\n",
       "      <td>0</td>\n",
       "      <td>0.0156%</td>\n",
       "    </tr>\n",
       "    <tr>\n",
       "      <th>1</th>\n",
       "      <td>1</td>\n",
       "      <td>1.7734%</td>\n",
       "    </tr>\n",
       "    <tr>\n",
       "      <th>2</th>\n",
       "      <td>2</td>\n",
       "      <td>25.5495%</td>\n",
       "    </tr>\n",
       "    <tr>\n",
       "      <th>3</th>\n",
       "      <td>3</td>\n",
       "      <td>59.8000%</td>\n",
       "    </tr>\n",
       "    <tr>\n",
       "      <th>4</th>\n",
       "      <td>4</td>\n",
       "      <td>11.5500%</td>\n",
       "    </tr>\n",
       "    <tr>\n",
       "      <th>5</th>\n",
       "      <td>5</td>\n",
       "      <td>1.2693%</td>\n",
       "    </tr>\n",
       "    <tr>\n",
       "      <th>6</th>\n",
       "      <td>6</td>\n",
       "      <td>0.0422%</td>\n",
       "    </tr>\n",
       "  </tbody>\n",
       "</table>\n",
       "</div>"
      ],
      "text/plain": [
       "  Num of PC within 3.2 Å Percentage\n",
       "0                      0    0.0156%\n",
       "1                      1    1.7734%\n",
       "2                      2   25.5495%\n",
       "3                      3   59.8000%\n",
       "4                      4   11.5500%\n",
       "5                      5    1.2693%\n",
       "6                      6    0.0422%"
      ]
     },
     "execution_count": 14,
     "metadata": {},
     "output_type": "execute_result"
    }
   ],
   "source": [
    "cna_mn_6_pc"
   ]
  },
  {
   "cell_type": "code",
   "execution_count": 15,
   "metadata": {},
   "outputs": [
    {
     "data": {
      "text/html": [
       "<div>\n",
       "<style scoped>\n",
       "    .dataframe tbody tr th:only-of-type {\n",
       "        vertical-align: middle;\n",
       "    }\n",
       "\n",
       "    .dataframe tbody tr th {\n",
       "        vertical-align: top;\n",
       "    }\n",
       "\n",
       "    .dataframe thead th {\n",
       "        text-align: right;\n",
       "    }\n",
       "</style>\n",
       "<table border=\"1\" class=\"dataframe\">\n",
       "  <thead>\n",
       "    <tr style=\"text-align: right;\">\n",
       "      <th></th>\n",
       "      <th>Num of anion within 3.4 Å</th>\n",
       "      <th>Percentage</th>\n",
       "    </tr>\n",
       "  </thead>\n",
       "  <tbody>\n",
       "    <tr>\n",
       "      <th>0</th>\n",
       "      <td>0</td>\n",
       "      <td>22.5667%</td>\n",
       "    </tr>\n",
       "    <tr>\n",
       "      <th>1</th>\n",
       "      <td>1</td>\n",
       "      <td>23.9620%</td>\n",
       "    </tr>\n",
       "    <tr>\n",
       "      <th>2</th>\n",
       "      <td>2</td>\n",
       "      <td>53.3042%</td>\n",
       "    </tr>\n",
       "    <tr>\n",
       "      <th>3</th>\n",
       "      <td>3</td>\n",
       "      <td>0.1656%</td>\n",
       "    </tr>\n",
       "    <tr>\n",
       "      <th>4</th>\n",
       "      <td>4</td>\n",
       "      <td>0.0016%</td>\n",
       "    </tr>\n",
       "  </tbody>\n",
       "</table>\n",
       "</div>"
      ],
      "text/plain": [
       "  Num of anion within 3.4 Å Percentage\n",
       "0                         0   22.5667%\n",
       "1                         1   23.9620%\n",
       "2                         2   53.3042%\n",
       "3                         3    0.1656%\n",
       "4                         4    0.0016%"
      ]
     },
     "execution_count": 15,
     "metadata": {},
     "output_type": "execute_result"
    }
   ],
   "source": [
    "cna_mn_55_o"
   ]
  },
  {
   "cell_type": "code",
   "execution_count": 16,
   "metadata": {},
   "outputs": [
    {
     "data": {
      "text/html": [
       "<div>\n",
       "<style scoped>\n",
       "    .dataframe tbody tr th:only-of-type {\n",
       "        vertical-align: middle;\n",
       "    }\n",
       "\n",
       "    .dataframe tbody tr th {\n",
       "        vertical-align: top;\n",
       "    }\n",
       "\n",
       "    .dataframe thead th {\n",
       "        text-align: right;\n",
       "    }\n",
       "</style>\n",
       "<table border=\"1\" class=\"dataframe\">\n",
       "  <thead>\n",
       "    <tr style=\"text-align: right;\">\n",
       "      <th></th>\n",
       "      <th>Num of PC within 3.4 Å</th>\n",
       "      <th>Percentage</th>\n",
       "    </tr>\n",
       "  </thead>\n",
       "  <tbody>\n",
       "    <tr>\n",
       "      <th>0</th>\n",
       "      <td>0</td>\n",
       "      <td>0.0135%</td>\n",
       "    </tr>\n",
       "    <tr>\n",
       "      <th>1</th>\n",
       "      <td>1</td>\n",
       "      <td>1.1458%</td>\n",
       "    </tr>\n",
       "    <tr>\n",
       "      <th>2</th>\n",
       "      <td>2</td>\n",
       "      <td>20.7005%</td>\n",
       "    </tr>\n",
       "    <tr>\n",
       "      <th>3</th>\n",
       "      <td>3</td>\n",
       "      <td>53.2198%</td>\n",
       "    </tr>\n",
       "    <tr>\n",
       "      <th>4</th>\n",
       "      <td>4</td>\n",
       "      <td>20.9651%</td>\n",
       "    </tr>\n",
       "    <tr>\n",
       "      <th>5</th>\n",
       "      <td>5</td>\n",
       "      <td>3.6484%</td>\n",
       "    </tr>\n",
       "    <tr>\n",
       "      <th>6</th>\n",
       "      <td>6</td>\n",
       "      <td>0.3036%</td>\n",
       "    </tr>\n",
       "    <tr>\n",
       "      <th>7</th>\n",
       "      <td>7</td>\n",
       "      <td>0.0031%</td>\n",
       "    </tr>\n",
       "  </tbody>\n",
       "</table>\n",
       "</div>"
      ],
      "text/plain": [
       "  Num of PC within 3.4 Å Percentage\n",
       "0                      0    0.0135%\n",
       "1                      1    1.1458%\n",
       "2                      2   20.7005%\n",
       "3                      3   53.2198%\n",
       "4                      4   20.9651%\n",
       "5                      5    3.6484%\n",
       "6                      6    0.3036%\n",
       "7                      7    0.0031%"
      ]
     },
     "execution_count": 16,
     "metadata": {},
     "output_type": "execute_result"
    }
   ],
   "source": [
    "cna_mn_55_pc"
   ]
  },
  {
   "cell_type": "markdown",
   "metadata": {},
   "source": [
    "## 3.MSD and ionic conductivity"
   ]
  },
  {
   "cell_type": "code",
   "execution_count": 17,
   "metadata": {},
   "outputs": [],
   "source": [
    "run_start = int(10000/10)\n",
    "run_end = int(50000/10)\n",
    "al_6_msd_all = al_6_run.get_msd_all(run_start, run_end)\n",
    "al_55_msd_all = al_55_run.get_msd_all(run_start, run_end)\n",
    "mn_6_msd_all = mn_6_run.get_msd_all(run_start, run_end)\n",
    "mn_55_msd_all = mn_55_run.get_msd_all(run_start, run_end)"
   ]
  },
  {
   "cell_type": "code",
   "execution_count": 18,
   "metadata": {},
   "outputs": [
    {
     "data": {
      "text/plain": [
       "[<matplotlib.lines.Line2D at 0x15c9c3ed0>]"
      ]
     },
     "execution_count": 18,
     "metadata": {},
     "output_type": "execute_result"
    },
    {
     "data": {
      "image/png": "[encoded data removed]",
      "text/plain": [
       "<Figure size 432x288 with 1 Axes>"
      ]
     },
     "metadata": {
      "needs_background": "light"
     },
     "output_type": "display_data"
    }
   ],
   "source": [
    "plt.plot(al_6_msd_all)"
   ]
  },
  {
   "cell_type": "code",
   "execution_count": 99,
   "metadata": {},
   "outputs": [
    {
     "data": {
      "text/plain": [
       "[<matplotlib.lines.Line2D at 0x106e809d0>]"
      ]
     },
     "execution_count": 99,
     "metadata": {},
     "output_type": "execute_result"
    },
    {
     "data": {
      "image/png": "[encoded data removed]",
      "text/plain": [
       "<Figure size 432x288 with 1 Axes>"
      ]
     },
     "metadata": {
      "needs_background": "light"
     },
     "output_type": "display_data"
    }
   ],
   "source": [
    "plt.plot(al_55_msd_all[:50])"
   ]
  },
  {
   "cell_type": "code",
   "execution_count": 122,
   "metadata": {},
   "outputs": [
    {
     "data": {
      "text/plain": [
       "[<matplotlib.lines.Line2D at 0x1602577d0>]"
      ]
     },
     "execution_count": 122,
     "metadata": {},
     "output_type": "execute_result"
    },
    {
     "data": {
      "image/png": "[encoded data removed]",
      "text/plain": [
       "<Figure size 432x288 with 1 Axes>"
      ]
     },
     "metadata": {
      "needs_background": "light"
     },
     "output_type": "display_data"
    }
   ],
   "source": [
    "plt.plot(mn_6_msd_all[:])"
   ]
  },
  {
   "cell_type": "code",
   "execution_count": 103,
   "metadata": {},
   "outputs": [
    {
     "data": {
      "text/plain": [
       "[<matplotlib.lines.Line2D at 0x15fc78f10>]"
      ]
     },
     "execution_count": 103,
     "metadata": {},
     "output_type": "execute_result"
    },
    {
     "data": {
      "image/png": "[encoded data removed]",
      "text/plain": [
       "<Figure size 432x288 with 1 Axes>"
      ]
     },
     "metadata": {
      "needs_background": "light"
     },
     "output_type": "display_data"
    }
   ],
   "source": [
    "plt.plot(mn_55_msd_all[:20])"
   ]
  },
  {
   "cell_type": "code",
   "execution_count": 90,
   "metadata": {},
   "outputs": [
    {
     "name": "stdout",
     "output_type": "stream",
     "text": [
      "Diffusivity of all Li: 2.2704789463862745e-12 m^2/s\n",
      "Conductivity of all Li: 0.17086201573720303 mS/cm\n"
     ]
    }
   ],
   "source": [
    "al_6_run.get_d(al_6_msd_all, 0, 3500)"
   ]
  },
  {
   "cell_type": "code",
   "execution_count": 110,
   "metadata": {},
   "outputs": [
    {
     "name": "stdout",
     "output_type": "stream",
     "text": [
      "Diffusivity of all Li: 4.701873506166467e-12 m^2/s\n",
      "Conductivity of all Li: 0.35392546056091495 mS/cm\n"
     ]
    },
    {
     "name": "stderr",
     "output_type": "stream",
     "text": [
      "[autoreload of mdgo.core failed: Traceback (most recent call last):\n",
      "  File \"/Users/th/anaconda/envs/mdanalysis/lib/python3.7/site-packages/IPython/extensions/autoreload.py\", line 247, in check\n",
      "    superreload(m, reload, self.old_objects)\n",
      "ImportError: cannot import name 'trajectory' from 'mdgo.coordination' (/Users/th/Documents/mdgo/mdgo/coordination.py)\n",
      "]\n"
     ]
    }
   ],
   "source": [
    "al_55_run.get_d(al_55_msd_all, 0, 3500)"
   ]
  },
  {
   "cell_type": "code",
   "execution_count": 24,
   "metadata": {},
   "outputs": [
    {
     "name": "stdout",
     "output_type": "stream",
     "text": [
      "Diffusivity of all Li:  2.3627777692453256e-12 m^2/s\n",
      "Conductivity of all Li:  0.17917561937948517 mS/cm\n"
     ]
    }
   ],
   "source": [
    "mn_6_run.get_d(mn_6_msd_all, 0, 3500)"
   ]
  },
  {
   "cell_type": "code",
   "execution_count": 25,
   "metadata": {},
   "outputs": [
    {
     "name": "stdout",
     "output_type": "stream",
     "text": [
      "Diffusivity of all Li:  3.95915320960038e-12 m^2/s\n",
      "Conductivity of all Li:  0.297961334468123 mS/cm\n"
     ]
    }
   ],
   "source": [
    "mn_55_run.get_d(mn_55_msd_all, 0, 3500)"
   ]
  },
  {
   "cell_type": "code",
   "execution_count": 127,
   "metadata": {},
   "outputs": [
    {
     "data": {
      "application/vnd.jupyter.widget-view+json": {
       "model_id": "a23e5f6dbdfe48e9a58ea55f7b77bdc4",
       "version_major": 2,
       "version_minor": 0
      },
      "text/plain": [
       "HBox(children=(HTML(value=''), FloatProgress(value=0.0, max=48.0), HTML(value='')))"
      ]
     },
     "metadata": {},
     "output_type": "display_data"
    },
    {
     "name": "stdout",
     "output_type": "stream",
     "text": [
      "\n",
      "2.6562500000000002e-05 6.715934990330231\n",
      "1.9967820507911787e-12 m/s2\n"
     ]
    },
    {
     "data": {
      "application/vnd.jupyter.widget-view+json": {
       "model_id": "4986a7d66ce64511a161419bed89e944",
       "version_major": 2,
       "version_minor": 0
      },
      "text/plain": [
       "HBox(children=(HTML(value=''), FloatProgress(value=0.0, max=48.0), HTML(value='')))"
      ]
     },
     "metadata": {},
     "output_type": "display_data"
    },
    {
     "name": "stdout",
     "output_type": "stream",
     "text": [
      "\n",
      "0.00014010416666666666 6.488918994676822\n",
      "9.832059682759971e-12 m/s2\n"
     ]
    },
    {
     "data": {
      "application/vnd.jupyter.widget-view+json": {
       "model_id": "de7db5b83310452d9682d8643d1eb7ce",
       "version_major": 2,
       "version_minor": 0
      },
      "text/plain": [
       "HBox(children=(HTML(value=''), FloatProgress(value=0.0, max=48.0), HTML(value='')))"
      ]
     },
     "metadata": {},
     "output_type": "display_data"
    },
    {
     "name": "stdout",
     "output_type": "stream",
     "text": [
      "\n",
      "2.604166666666667e-05 7.305707462161185\n",
      "2.3165521494217716e-12 m/s2\n"
     ]
    },
    {
     "data": {
      "application/vnd.jupyter.widget-view+json": {
       "model_id": "09dec823487d4cbfbda4356af66ddf48",
       "version_major": 2,
       "version_minor": 0
      },
      "text/plain": [
       "HBox(children=(HTML(value=''), FloatProgress(value=0.0, max=48.0), HTML(value='')))"
      ]
     },
     "metadata": {},
     "output_type": "display_data"
    },
    {
     "name": "stdout",
     "output_type": "stream",
     "text": [
      "\n",
      "0.00010572916666666668 6.255563651664079\n",
      "6.895669748093947e-12 m/s2\n"
     ]
    }
   ],
   "source": [
    "freq_al_6, hop_distance_al_6 = al_6_run.get_hopping_freq_dist(1000, 5000, \"center\", 8.0, 8.0, smooth=51)\n",
    "D_al_6 = freq_al_6*1e12*hop_distance_al_6**2*1e-20/6\n",
    "print(freq_al_6, hop_distance_al_6)\n",
    "print(D_al_6, \"m/s2\")\n",
    "freq_al_55, hop_distance_al_55 = al_55_run.get_hopping_freq_dist(1000, 5000, \"center\", 8.0, 8.0, smooth=51)\n",
    "D_al_55 = freq_al_55*1e12*hop_distance_al_55**2*1e-20/6\n",
    "print(freq_al_55, hop_distance_al_55)\n",
    "print(D_al_55, \"m/s2\")\n",
    "freq_mn_6, hop_distance_mn_6 = mn_6_run.get_hopping_freq_dist(1000, 5000, \"center\", 8.0, 8.0, smooth=51)\n",
    "D_mn_6 = freq_mn_6*1e12*hop_distance_mn_6**2*1e-20/6\n",
    "print(freq_mn_6, hop_distance_mn_6)\n",
    "print(D_mn_6, \"m/s2\")\n",
    "freq_mn_55, hop_distance_mn_55 = mn_55_run.get_hopping_freq_dist(1000, 5000, \"center\", 8.0, 8.0, smooth=51)\n",
    "D_mn_55 = freq_mn_55*1e12*hop_distance_mn_55**2*1e-20/6\n",
    "print(freq_mn_55, hop_distance_mn_55)\n",
    "print(D_mn_55, \"m/s2\")"
   ]
  },
  {
   "cell_type": "code",
   "execution_count": 29,
   "metadata": {},
   "outputs": [
    {
     "data": {
      "application/vnd.jupyter.widget-view+json": {
       "model_id": "c782a6d0ec464347ac55150c7900b422",
       "version_major": 2,
       "version_minor": 0
      },
      "text/plain": [
       "HBox(children=(HTML(value=''), FloatProgress(value=0.0, max=48.0), HTML(value='')))"
      ]
     },
     "metadata": {},
     "output_type": "display_data"
    },
    {
     "name": "stdout",
     "output_type": "stream",
     "text": [
      "\n"
     ]
    }
   ],
   "source": [
    "run_start = int(10000/10)\n",
    "run_end = int(50000/10)\n",
    "al_6_msd_free, al_6_msd_attach = al_6_run.get_msd_partial(3.2, run_start, run_end, largest=1000)"
   ]
  },
  {
   "cell_type": "code",
   "execution_count": 30,
   "metadata": {},
   "outputs": [
    {
     "data": {
      "application/vnd.jupyter.widget-view+json": {
       "model_id": "e365c4effe5c489fa47ea93bf73eea82",
       "version_major": 2,
       "version_minor": 0
      },
      "text/plain": [
       "HBox(children=(HTML(value=''), FloatProgress(value=0.0, max=48.0), HTML(value='')))"
      ]
     },
     "metadata": {},
     "output_type": "display_data"
    },
    {
     "name": "stdout",
     "output_type": "stream",
     "text": [
      "\n"
     ]
    }
   ],
   "source": [
    "al_55_msd_free, al_55_msd_attach = al_55_run.get_msd_partial(3.4, run_start, run_end, largest=1000)"
   ]
  },
  {
   "cell_type": "code",
   "execution_count": 31,
   "metadata": {},
   "outputs": [
    {
     "data": {
      "application/vnd.jupyter.widget-view+json": {
       "model_id": "54c0d33185874acc993cb29248f34845",
       "version_major": 2,
       "version_minor": 0
      },
      "text/plain": [
       "HBox(children=(HTML(value=''), FloatProgress(value=0.0, max=48.0), HTML(value='')))"
      ]
     },
     "metadata": {},
     "output_type": "display_data"
    },
    {
     "name": "stdout",
     "output_type": "stream",
     "text": [
      "\n"
     ]
    }
   ],
   "source": [
    "\n",
    "mn_6_msd_free, mn_6_msd_attach = mn_6_run.get_msd_partial(3.2, run_start, run_end, largest=1000)\n"
   ]
  },
  {
   "cell_type": "code",
   "execution_count": 32,
   "metadata": {},
   "outputs": [
    {
     "data": {
      "application/vnd.jupyter.widget-view+json": {
       "model_id": "b83ef2609c3a488196749164cf46e584",
       "version_major": 2,
       "version_minor": 0
      },
      "text/plain": [
       "HBox(children=(HTML(value=''), FloatProgress(value=0.0, max=48.0), HTML(value='')))"
      ]
     },
     "metadata": {},
     "output_type": "display_data"
    },
    {
     "name": "stdout",
     "output_type": "stream",
     "text": [
      "\n"
     ]
    }
   ],
   "source": [
    "mn_55_msd_free, mn_55_msd_attach = mn_55_run.get_msd_partial(3.4, run_start, run_end, largest=1000)"
   ]
  },
  {
   "cell_type": "code",
   "execution_count": 55,
   "metadata": {},
   "outputs": [
    {
     "data": {
      "text/plain": [
       "[<matplotlib.lines.Line2D at 0x15d88d090>]"
      ]
     },
     "execution_count": 55,
     "metadata": {},
     "output_type": "execute_result"
    },
    {
     "data": {
      "image/png": "[encoded data removed]",
      "text/plain": [
       "<Figure size 432x288 with 1 Axes>"
      ]
     },
     "metadata": {
      "needs_background": "light"
     },
     "output_type": "display_data"
    }
   ],
   "source": [
    "plt.plot(al_6_msd_free[:100])"
   ]
  },
  {
   "cell_type": "code",
   "execution_count": 54,
   "metadata": {},
   "outputs": [
    {
     "data": {
      "text/plain": [
       "[<matplotlib.lines.Line2D at 0x15ce16250>]"
      ]
     },
     "execution_count": 54,
     "metadata": {},
     "output_type": "execute_result"
    },
    {
     "data": {
      "image/png": "[encoded data removed]",
      "text/plain": [
       "<Figure size 432x288 with 1 Axes>"
      ]
     },
     "metadata": {
      "needs_background": "light"
     },
     "output_type": "display_data"
    }
   ],
   "source": [
    "plt.plot(al_6_msd_attach[:100])"
   ]
  },
  {
   "cell_type": "code",
   "execution_count": 64,
   "metadata": {},
   "outputs": [
    {
     "name": "stdout",
     "output_type": "stream",
     "text": [
      "Diffusivity of 8.58% Li:  9.9669615427653e-13 m^2/s\n",
      "Conductivity of 8.58% Li:  0.006436788184921523 mS/cm\n"
     ]
    }
   ],
   "source": [
    "al_6_run.get_d(al_6_msd_free, 0, 100, percentage=float(cna_al_6_o.iloc[0]['Percentage'][:-1])/100)"
   ]
  },
  {
   "cell_type": "code",
   "execution_count": 65,
   "metadata": {},
   "outputs": [
    {
     "name": "stdout",
     "output_type": "stream",
     "text": [
      "Diffusivity of 91.42% Li:  2.1529696385065714e-12 m^2/s\n",
      "Conductivity of 91.42% Li:  0.14811485500480479 mS/cm\n"
     ]
    }
   ],
   "source": [
    "al_6_run.get_d(al_6_msd_attach, 0, 100, percentage=1-float(cna_al_6_o.iloc[0]['Percentage'][:-1])/100)"
   ]
  },
  {
   "cell_type": "code",
   "execution_count": 58,
   "metadata": {},
   "outputs": [
    {
     "data": {
      "text/plain": [
       "[<matplotlib.lines.Line2D at 0x15d96d450>]"
      ]
     },
     "execution_count": 58,
     "metadata": {},
     "output_type": "execute_result"
    },
    {
     "data": {
      "image/png": "[encoded data removed]",
      "text/plain": [
       "<Figure size 432x288 with 1 Axes>"
      ]
     },
     "metadata": {
      "needs_background": "light"
     },
     "output_type": "display_data"
    }
   ],
   "source": [
    "plt.plot(al_55_msd_free[:200])"
   ]
  },
  {
   "cell_type": "code",
   "execution_count": 59,
   "metadata": {},
   "outputs": [
    {
     "data": {
      "text/plain": [
       "[<matplotlib.lines.Line2D at 0x15da5f490>]"
      ]
     },
     "execution_count": 59,
     "metadata": {},
     "output_type": "execute_result"
    },
    {
     "data": {
      "image/png": "[encoded data removed]",
      "text/plain": [
       "<Figure size 432x288 with 1 Axes>"
      ]
     },
     "metadata": {
      "needs_background": "light"
     },
     "output_type": "display_data"
    }
   ],
   "source": [
    "plt.plot(al_55_msd_attach[:200])"
   ]
  },
  {
   "cell_type": "code",
   "execution_count": 96,
   "metadata": {},
   "outputs": [
    {
     "name": "stdout",
     "output_type": "stream",
     "text": [
      "Diffusivity of 20.93% Li:  1.1471847693125405e-12 m^2/s\n",
      "Conductivity of 20.93% Li:  0.01807234108983672 mS/cm\n"
     ]
    }
   ],
   "source": [
    "al_55_run.get_d(al_55_msd_free, 10, 50, percentage=float(cna_al_55_o.iloc[0]['Percentage'][:-1])/100)"
   ]
  },
  {
   "cell_type": "code",
   "execution_count": 97,
   "metadata": {},
   "outputs": [
    {
     "name": "stdout",
     "output_type": "stream",
     "text": [
      "Diffusivity of 79.07% Li:  4.887692133585612e-12 m^2/s\n",
      "Conductivity of 79.07% Li:  0.29091367436048016 mS/cm\n"
     ]
    }
   ],
   "source": [
    "al_55_run.get_d(al_55_msd_attach, 10, 50, percentage=1-float(cna_al_55_o.iloc[0]['Percentage'][:-1])/100)"
   ]
  },
  {
   "cell_type": "code",
   "execution_count": 109,
   "metadata": {},
   "outputs": [
    {
     "data": {
      "text/plain": [
       "[<matplotlib.lines.Line2D at 0x160163050>]"
      ]
     },
     "execution_count": 109,
     "metadata": {},
     "output_type": "execute_result"
    },
    {
     "data": {
      "image/png": "[encoded data removed]",
      "text/plain": [
       "<Figure size 432x288 with 1 Axes>"
      ]
     },
     "metadata": {
      "needs_background": "light"
     },
     "output_type": "display_data"
    }
   ],
   "source": [
    "plt.plot(mn_6_msd_free[:50])"
   ]
  },
  {
   "cell_type": "code",
   "execution_count": 108,
   "metadata": {},
   "outputs": [
    {
     "data": {
      "text/plain": [
       "[<matplotlib.lines.Line2D at 0x16006eb90>]"
      ]
     },
     "execution_count": 108,
     "metadata": {},
     "output_type": "execute_result"
    },
    {
     "data": {
      "image/png": "[encoded data removed]",
      "text/plain": [
       "<Figure size 432x288 with 1 Axes>"
      ]
     },
     "metadata": {
      "needs_background": "light"
     },
     "output_type": "display_data"
    }
   ],
   "source": [
    "plt.plot(mn_6_msd_attach[:50])"
   ]
  },
  {
   "cell_type": "code",
   "execution_count": 106,
   "metadata": {},
   "outputs": [
    {
     "name": "stdout",
     "output_type": "stream",
     "text": [
      "Diffusivity of 6.99% Li:  2.2165298461914064e-12 m^2/s\n",
      "Conductivity of 6.99% Li:  0.011752016898488007 mS/cm\n"
     ]
    }
   ],
   "source": [
    "mn_6_run.get_d(mn_6_msd_free, 5, 20, percentage=float(cna_mn_6_o.iloc[0]['Percentage'][:-1])/100)"
   ]
  },
  {
   "cell_type": "code",
   "execution_count": 107,
   "metadata": {},
   "outputs": [
    {
     "name": "stdout",
     "output_type": "stream",
     "text": [
      "Diffusivity of 93.01% Li:  3.2001654307047523e-12 m^2/s\n",
      "Conductivity of 93.01% Li:  0.22570967442992615 mS/cm\n"
     ]
    }
   ],
   "source": [
    "mn_6_run.get_d(mn_6_msd_attach, 5, 20, percentage=1-float(cna_mn_6_o.iloc[0]['Percentage'][:-1])/100)"
   ]
  },
  {
   "cell_type": "code",
   "execution_count": 85,
   "metadata": {},
   "outputs": [
    {
     "data": {
      "text/plain": [
       "[<matplotlib.lines.Line2D at 0x15e000f90>]"
      ]
     },
     "execution_count": 85,
     "metadata": {},
     "output_type": "execute_result"
    },
    {
     "data": {
      "image/png": "[encoded data removed]",
      "text/plain": [
       "<Figure size 432x288 with 1 Axes>"
      ]
     },
     "metadata": {
      "needs_background": "light"
     },
     "output_type": "display_data"
    }
   ],
   "source": [
    "plt.plot(mn_55_msd_free[:500])"
   ]
  },
  {
   "cell_type": "code",
   "execution_count": 86,
   "metadata": {},
   "outputs": [
    {
     "data": {
      "text/plain": [
       "[<matplotlib.lines.Line2D at 0x15e125890>]"
      ]
     },
     "execution_count": 86,
     "metadata": {},
     "output_type": "execute_result"
    },
    {
     "data": {
      "image/png": "[encoded data removed]",
      "text/plain": [
       "<Figure size 432x288 with 1 Axes>"
      ]
     },
     "metadata": {
      "needs_background": "light"
     },
     "output_type": "display_data"
    }
   ],
   "source": [
    "plt.plot(mn_55_msd_attach[:500])"
   ]
  },
  {
   "cell_type": "code",
   "execution_count": 91,
   "metadata": {},
   "outputs": [
    {
     "name": "stdout",
     "output_type": "stream",
     "text": [
      "Diffusivity of 22.57% Li:  5.257238944371541e-13 m^2/s\n",
      "Conductivity of 22.57% Li:  0.008928600148605862 mS/cm\n"
     ]
    }
   ],
   "source": [
    "mn_55_run.get_d(mn_55_msd_free, 10, 50, percentage=float(cna_mn_55_o.iloc[0]['Percentage'][:-1])/100)"
   ]
  },
  {
   "cell_type": "code",
   "execution_count": 92,
   "metadata": {},
   "outputs": [
    {
     "name": "stdout",
     "output_type": "stream",
     "text": [
      "Diffusivity of 77.43% Li:  3.395503262678782e-12 m^2/s\n",
      "Conductivity of 77.43% Li:  0.19787435976359455 mS/cm\n"
     ]
    }
   ],
   "source": [
    "mn_55_run.get_d(mn_55_msd_attach, 10, 50, percentage=1-float(cna_mn_55_o.iloc[0]['Percentage'][:-1])/100)"
   ]
  },
  {
   "cell_type": "code",
   "execution_count": 95,
   "metadata": {},
   "outputs": [
    {
     "ename": "AttributeError",
     "evalue": "'MdRun' object has no attribute 'get_msd_by_length'",
     "output_type": "error",
     "traceback": [
      "\u001b[0;31m---------------------------------------------------------------------------\u001b[0m",
      "\u001b[0;31mAttributeError\u001b[0m                            Traceback (most recent call last)",
      "\u001b[0;32m<ipython-input-95-cd250a33b129>\u001b[0m in \u001b[0;36m<module>\u001b[0;34m()\u001b[0m\n\u001b[0;32m----> 1\u001b[0;31m \u001b[0mal_6_run\u001b[0m\u001b[0;34m.\u001b[0m\u001b[0mget_msd_by_length\u001b[0m\u001b[0;34m(\u001b[0m\u001b[0;36m3.4\u001b[0m\u001b[0;34m,\u001b[0m \u001b[0mrun_start\u001b[0m\u001b[0;34m,\u001b[0m \u001b[0mrun_end\u001b[0m\u001b[0;34m)\u001b[0m\u001b[0;34m\u001b[0m\u001b[0;34m\u001b[0m\u001b[0m\n\u001b[0m",
      "\u001b[0;31mAttributeError\u001b[0m: 'MdRun' object has no attribute 'get_msd_by_length'"
     ]
    }
   ],
   "source": [
    "al_6_run.get_msd_by_length(3.4, run_start, run_end)"
   ]
  },
  {
   "cell_type": "code",
   "execution_count": null,
   "metadata": {},
   "outputs": [],
   "source": []
  }
 ],
 "metadata": {
  "kernelspec": {
   "display_name": "“mdanalysis”",
   "language": "python",
   "name": "mdanalysis"
  },
  "language_info": {
   "codemirror_mode": {
    "name": "ipython",
    "version": 3
   },
   "file_extension": ".py",
   "mimetype": "text/x-python",
   "name": "python",
   "nbconvert_exporter": "python",
   "pygments_lexer": "ipython3",
   "version": "3.7.8"
  }
 },
 "nbformat": 4,
 "nbformat_minor": 4
}
